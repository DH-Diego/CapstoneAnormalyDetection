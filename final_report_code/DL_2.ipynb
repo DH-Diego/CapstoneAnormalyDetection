{
 "cells": [
  {
   "cell_type": "code",
   "execution_count": 1,
   "metadata": {},
   "outputs": [],
   "source": [
    "import sys\n",
    "sys.path.append('../data_generated_library')\n",
    "import numpy as np\n",
    "import pandas as pd\n",
    "from sklearn.model_selection import train_test_split\n",
    "import credit_card_data\n",
    "import pickle\n",
    "import torch.nn as nn\n",
    "import torch\n",
    "import torch.nn.functional as F\n",
    "# from torch.utils.tensorboard import SummaryWriter\n",
    "import matplotlib.pyplot as plt"
   ]
  },
  {
   "cell_type": "markdown",
   "metadata": {},
   "source": [
    "## data generation"
   ]
  },
  {
   "cell_type": "code",
   "execution_count": 2,
   "metadata": {},
   "outputs": [],
   "source": [
    "device = torch.device(\"cuda:0\" if torch.cuda.is_available() else \"cpu\")"
   ]
  },
  {
   "cell_type": "code",
   "execution_count": 28,
   "metadata": {},
   "outputs": [],
   "source": [
    "# train_data = pickle.load(open('../data_1/train_data_HMM','rb'))\n",
    "# train_label= pickle.load(open('../data_1/train_label_HMM','rb'))\n",
    "# test_data = pickle.load(open('../data_1/test_data_HMM','rb'))\n",
    "# test_label = pickle.load(open('../data_1/test_label_HMM','rb'))"
   ]
  },
  {
   "cell_type": "code",
   "execution_count": 3,
   "metadata": {},
   "outputs": [],
   "source": [
    "train_data = pickle.load(open('../data_2/train_data','rb'))\n",
    "train_label= pickle.load(open('../data_2/train_label','rb'))\n",
    "test_data = pickle.load(open('../data_2/test_data','rb'))\n",
    "test_label = pickle.load(open('../data_2/test_label','rb'))"
   ]
  },
  {
   "cell_type": "code",
   "execution_count": 16,
   "metadata": {},
   "outputs": [],
   "source": [
    "window_size = 24"
   ]
  },
  {
   "cell_type": "code",
   "execution_count": 10,
   "metadata": {},
   "outputs": [
    {
     "name": "stderr",
     "output_type": "stream",
     "text": [
      "/usr/local/lib/python3.6/site-packages/ipykernel_launcher.py:1: UserWarning: To copy construct from a tensor, it is recommended to use sourceTensor.clone().detach() or sourceTensor.clone().detach().requires_grad_(True), rather than torch.tensor(sourceTensor).\n",
      "  \"\"\"Entry point for launching an IPython kernel.\n",
      "/usr/local/lib/python3.6/site-packages/ipykernel_launcher.py:2: UserWarning: To copy construct from a tensor, it is recommended to use sourceTensor.clone().detach() or sourceTensor.clone().detach().requires_grad_(True), rather than torch.tensor(sourceTensor).\n",
      "  \n",
      "/usr/local/lib/python3.6/site-packages/ipykernel_launcher.py:3: UserWarning: To copy construct from a tensor, it is recommended to use sourceTensor.clone().detach() or sourceTensor.clone().detach().requires_grad_(True), rather than torch.tensor(sourceTensor).\n",
      "  This is separate from the ipykernel package so we can avoid doing imports until\n",
      "/usr/local/lib/python3.6/site-packages/ipykernel_launcher.py:4: UserWarning: To copy construct from a tensor, it is recommended to use sourceTensor.clone().detach() or sourceTensor.clone().detach().requires_grad_(True), rather than torch.tensor(sourceTensor).\n",
      "  after removing the cwd from sys.path.\n"
     ]
    }
   ],
   "source": [
    "train_data = torch.tensor(train_data,dtype = torch.float)\n",
    "test_data = torch.tensor(test_data,dtype = torch.float)\n",
    "train_label = torch.tensor(train_label,dtype = torch.float)\n",
    "test_label = torch.tensor(test_label,dtype = torch.float)"
   ]
  },
  {
   "cell_type": "code",
   "execution_count": 15,
   "metadata": {},
   "outputs": [
    {
     "data": {
      "text/plain": [
       "torch.Size([8640, 24])"
      ]
     },
     "execution_count": 15,
     "metadata": {},
     "output_type": "execute_result"
    }
   ],
   "source": [
    "train_data.shape"
   ]
  },
  {
   "cell_type": "code",
   "execution_count": null,
   "metadata": {},
   "outputs": [],
   "source": []
  },
  {
   "cell_type": "markdown",
   "metadata": {},
   "source": [
    "## ANN"
   ]
  },
  {
   "cell_type": "code",
   "execution_count": 17,
   "metadata": {},
   "outputs": [],
   "source": [
    "class ANN(nn.Module):\n",
    "    def __init__(self, input_dim, output_dim):\n",
    "        super(ANN, self).__init__()\n",
    "        hidden_dim = input_dim // 2\n",
    "        self.linear1 = nn.Linear(input_dim, hidden_dim)\n",
    "        self.linear2 = nn.Linear(hidden_dim, output_dim)\n",
    "    \n",
    "    def forward(self, input_data):\n",
    "        l1 = self.linear1(input_data)\n",
    "        l2 = self.linear2(l1)\n",
    "        y_pred = nn.Sigmoid()(l2)\n",
    "        return y_pred"
   ]
  },
  {
   "cell_type": "code",
   "execution_count": 18,
   "metadata": {},
   "outputs": [
    {
     "name": "stderr",
     "output_type": "stream",
     "text": [
      "/usr/local/lib/python3.6/site-packages/torch/nn/_reduction.py:49: UserWarning: size_average and reduce args will be deprecated, please use reduction='sum' instead.\n",
      "  warnings.warn(warning.format(ret))\n"
     ]
    }
   ],
   "source": [
    "ann_model = ANN(input_dim=window_size, output_dim=1)\n",
    "ann_model.to(device)\n",
    "\n",
    "learning_rate = 0.01\n",
    "loss_fn = torch.nn.BCELoss(size_average=False)\n",
    "optimiser = torch.optim.Adam(ann_model.parameters(), lr=learning_rate)"
   ]
  },
  {
   "cell_type": "code",
   "execution_count": 20,
   "metadata": {},
   "outputs": [
    {
     "name": "stderr",
     "output_type": "stream",
     "text": [
      "/usr/local/lib/python3.6/site-packages/torch/nn/functional.py:2016: UserWarning: Using a target size (torch.Size([128])) that is different to the input size (torch.Size([128, 1])) is deprecated. Please ensure they have the same size.\n",
      "  \"Please ensure they have the same size.\".format(target.size(), input.size()))\n"
     ]
    },
    {
     "name": "stdout",
     "output_type": "stream",
     "text": [
      "epoch 0: 0.6050939559936523\n",
      "epoch 1: 0.5969028472900391\n",
      "epoch 2: 0.5991812944412231\n",
      "epoch 3: 0.5945814251899719\n",
      "epoch 4: 0.5949675440788269\n",
      "epoch 5: 0.5921769738197327\n",
      "epoch 6: 0.5933834314346313\n",
      "epoch 7: 0.5940915942192078\n",
      "epoch 8: 0.5918219089508057\n",
      "epoch 9: 0.5939525365829468\n"
     ]
    }
   ],
   "source": [
    "num_epochs = 10\n",
    "batch_size = 128\n",
    "\n",
    "#ann_writer = SummaryWriter()\n",
    "for t in range(num_epochs):\n",
    "    # shuffle data\n",
    "    idx = np.random.permutation(len(train_data))\n",
    "    train_data = train_data[idx]\n",
    "    train_label = train_label[idx]\n",
    "    total_loss = 0\n",
    "    for i in range(len(train_data)//batch_size):\n",
    "        optimiser.zero_grad()\n",
    "        batch_data = train_data[i*batch_size:(i+1)*batch_size]\n",
    "        batch_label = train_label[i*batch_size:(i+1)*batch_size]\n",
    "        y_pred = ann_model(batch_data)\n",
    "        weight = 4 * (batch_label == 1).float() + torch.ones(batch_size, device=device)\n",
    "        loss = torch.nn.BCELoss(weight=weight)(y_pred, batch_label)\n",
    "        #ann_writer.add_scalar('ANN loss', loss, t * len(train_data)//batch_size +i)\n",
    "        total_loss += loss\n",
    "        loss.backward()\n",
    "        optimiser.step()\n",
    "    print(\"epoch {:d}: {}\".format(t, total_loss/(len(train_data)//batch_size)))"
   ]
  },
  {
   "cell_type": "markdown",
   "metadata": {},
   "source": [
    "## LSTM"
   ]
  },
  {
   "cell_type": "code",
   "execution_count": 21,
   "metadata": {},
   "outputs": [],
   "source": [
    "class LSTM(nn.Module):\n",
    "    def __init__(self, output_dim, bidirectional=False):\n",
    "        super(LSTM, self).__init__()\n",
    "        self.input_dim = 1\n",
    "        self.hidden_dim = 3\n",
    "        self.num_layers = 2\n",
    "        self.lstm = nn.LSTM(self.input_dim, self.hidden_dim, self.num_layers, bidirectional=bidirectional)\n",
    "        self.linear = nn.Linear((bidirectional+1)*self.hidden_dim, output_dim)\n",
    "    \n",
    "    def forward(self, input_data):\n",
    "        lstm_out, hidden = self.lstm(input_data.view(input_data.size()[0], input_data.size()[1], -1))\n",
    "        linear = self.linear(lstm_out[-1])\n",
    "        y_pred = nn.Sigmoid()(linear)\n",
    "        return y_pred"
   ]
  },
  {
   "cell_type": "code",
   "execution_count": 22,
   "metadata": {
    "scrolled": true
   },
   "outputs": [
    {
     "name": "stderr",
     "output_type": "stream",
     "text": [
      "/usr/local/lib/python3.6/site-packages/torch/nn/_reduction.py:49: UserWarning: size_average and reduce args will be deprecated, please use reduction='sum' instead.\n",
      "  warnings.warn(warning.format(ret))\n"
     ]
    }
   ],
   "source": [
    "lstm_model = LSTM(output_dim=1)\n",
    "lstm_model.to(device)\n",
    "\n",
    "learning_rate = 0.01\n",
    "loss_fn = torch.nn.BCELoss(size_average=False)\n",
    "optimiser = torch.optim.Adam(lstm_model.parameters(), lr=learning_rate)"
   ]
  },
  {
   "cell_type": "code",
   "execution_count": 23,
   "metadata": {},
   "outputs": [
    {
     "name": "stderr",
     "output_type": "stream",
     "text": [
      "/usr/local/lib/python3.6/site-packages/torch/nn/functional.py:2016: UserWarning: Using a target size (torch.Size([128])) that is different to the input size (torch.Size([128, 1])) is deprecated. Please ensure they have the same size.\n",
      "  \"Please ensure they have the same size.\".format(target.size(), input.size()))\n"
     ]
    },
    {
     "name": "stdout",
     "output_type": "stream",
     "text": [
      "epoch 0: 0.988135039806366\n",
      "epoch 1: 0.6471506357192993\n",
      "epoch 2: 0.5841115713119507\n",
      "epoch 3: 0.5782243609428406\n",
      "epoch 4: 0.5557475090026855\n",
      "epoch 5: 0.5502058863639832\n",
      "epoch 6: 0.5422110557556152\n",
      "epoch 7: 0.5449448227882385\n",
      "epoch 8: 0.5430991053581238\n",
      "epoch 9: 0.5447702407836914\n"
     ]
    }
   ],
   "source": [
    "num_epochs = 10\n",
    "batch_size = 128\n",
    "\n",
    "#lstm_writer = SummaryWriter()\n",
    "for t in range(num_epochs):\n",
    "    # shuffle data\n",
    "    idx = np.random.permutation(len(train_data))\n",
    "    train_data = train_data[idx]\n",
    "    train_label = train_label[idx]\n",
    "    total_loss = 0\n",
    "    for i in range(len(train_data)//batch_size):\n",
    "        optimiser.zero_grad()\n",
    "        batch_data = train_data[i*batch_size:(i+1)*batch_size].permute(1,0)\n",
    "        batch_label = train_label[i*batch_size:(i+1)*batch_size]\n",
    "        y_pred = lstm_model(batch_data)\n",
    "        weight = 4 * (batch_label == 1).float() + torch.ones(batch_size, device=device)\n",
    "        loss = torch.nn.BCELoss(weight=weight)(y_pred, batch_label)\n",
    "        #lstm_writer.add_scalar('LSTM loss', loss, t * len(train_data)//batch_size +i)\n",
    "        total_loss += loss\n",
    "        loss.backward()\n",
    "        optimiser.step()\n",
    "    print(\"epoch {:d}: {}\".format(t, total_loss/(len(train_data)//batch_size)))"
   ]
  },
  {
   "cell_type": "markdown",
   "metadata": {},
   "source": [
    "## CNN"
   ]
  },
  {
   "cell_type": "code",
   "execution_count": 24,
   "metadata": {},
   "outputs": [],
   "source": [
    "class CNN(nn.Module):\n",
    "    def __init__(self, input_dim, output_dim):\n",
    "        super(CNN, self).__init__()\n",
    "        kernel_size = 3\n",
    "        self.input_dim = input_dim\n",
    "        self.conv1 = torch.nn.Conv1d(in_channels=1, out_channels=3, kernel_size=kernel_size)\n",
    "        self.conv2 = torch.nn.Conv1d(in_channels=3, out_channels=3, kernel_size=kernel_size)\n",
    "        self.linear1 = nn.Linear((input_dim-2*(kernel_size-1))*3, 10)\n",
    "        self.linear2 = nn.Linear(10, output_dim)\n",
    "        self.sigmoid = nn.Sigmoid()\n",
    "    \n",
    "    def forward(self, input_data):\n",
    "        conv_out1 = self.conv1(input_data.view(input_data.size()[0], 1, input_data.size()[1]))\n",
    "        conv_out1 = nn.ReLU()(conv_out1)\n",
    "        conv_out2 = self.conv2(conv_out1)\n",
    "        conv_out2 = nn.ReLU()(conv_out2)\n",
    "        linear1 = self.linear1(conv_out2.view(conv_out2.size()[0], -1))\n",
    "        linear1 = nn.ReLU()(linear1)\n",
    "        linear2 = self.linear2(linear1)\n",
    "        y_pred = self.sigmoid(linear2)\n",
    "        return y_pred"
   ]
  },
  {
   "cell_type": "code",
   "execution_count": 25,
   "metadata": {},
   "outputs": [
    {
     "name": "stderr",
     "output_type": "stream",
     "text": [
      "/usr/local/lib/python3.6/site-packages/torch/nn/_reduction.py:49: UserWarning: size_average and reduce args will be deprecated, please use reduction='sum' instead.\n",
      "  warnings.warn(warning.format(ret))\n"
     ]
    }
   ],
   "source": [
    "cnn_model = CNN(input_dim=window_size, output_dim=1)\n",
    "cnn_model.to(device)\n",
    "\n",
    "learning_rate = 0.01\n",
    "loss_fn = torch.nn.BCELoss(size_average=False)\n",
    "optimiser = torch.optim.Adam(cnn_model.parameters(), lr=learning_rate)"
   ]
  },
  {
   "cell_type": "code",
   "execution_count": 26,
   "metadata": {},
   "outputs": [
    {
     "name": "stderr",
     "output_type": "stream",
     "text": [
      "/usr/local/lib/python3.6/site-packages/torch/nn/functional.py:2016: UserWarning: Using a target size (torch.Size([128])) that is different to the input size (torch.Size([128, 1])) is deprecated. Please ensure they have the same size.\n",
      "  \"Please ensure they have the same size.\".format(target.size(), input.size()))\n"
     ]
    },
    {
     "name": "stdout",
     "output_type": "stream",
     "text": [
      "epoch 0: 0.7534032464027405\n",
      "epoch 1: 0.5802819132804871\n",
      "epoch 2: 0.5642803311347961\n",
      "epoch 3: 0.5590586066246033\n",
      "epoch 4: 0.5596926808357239\n",
      "epoch 5: 0.5511071681976318\n",
      "epoch 6: 0.5554407835006714\n",
      "epoch 7: 0.5473907589912415\n",
      "epoch 8: 0.5512919425964355\n",
      "epoch 9: 0.540824294090271\n"
     ]
    }
   ],
   "source": [
    "num_epochs = 10\n",
    "batch_size = 128\n",
    "\n",
    "#cnn_writer = SummaryWriter()\n",
    "for t in range(num_epochs):\n",
    "    # shuffle data\n",
    "    idx = np.random.permutation(len(train_data))\n",
    "    train_data = train_data[idx]\n",
    "    train_label = train_label[idx]\n",
    "    total_loss = 0\n",
    "    for i in range(len(train_data)//batch_size):\n",
    "        optimiser.zero_grad()\n",
    "        batch_data = train_data[i*batch_size:(i+1)*batch_size]\n",
    "        batch_label = train_label[i*batch_size:(i+1)*batch_size]\n",
    "        y_pred = cnn_model(batch_data)\n",
    "        weight = 4 * (batch_label == 1).float() + torch.ones(batch_size, device=device)\n",
    "        loss = torch.nn.BCELoss(weight=weight)(y_pred, batch_label)\n",
    "        #cnn_writer.add_scalar('CNN loss', loss, t * len(train_data)//batch_size +i)\n",
    "        total_loss += loss\n",
    "        loss.backward()\n",
    "        optimiser.step()\n",
    "    print(\"epoch {:d}: {}\".format(t, total_loss/(len(train_data)//batch_size)))"
   ]
  },
  {
   "cell_type": "markdown",
   "metadata": {},
   "source": [
    "## LSTM + Attention"
   ]
  },
  {
   "cell_type": "code",
   "execution_count": 50,
   "metadata": {},
   "outputs": [],
   "source": [
    "## Attention Layer\n",
    "class Attention(nn.Module):\n",
    "    def __init__(self, feature_dim, step_dim, bias=True, **kwargs):\n",
    "        super(Attention, self).__init__(**kwargs)\n",
    "        \n",
    "        self.supports_masking = True\n",
    "\n",
    "        self.bias = bias\n",
    "        self.feature_dim = feature_dim\n",
    "        self.step_dim = step_dim\n",
    "        self.features_dim = 0\n",
    "        \n",
    "        weight = torch.zeros(feature_dim, 1)\n",
    "        nn.init.kaiming_uniform_(weight)\n",
    "        self.weight = nn.Parameter(weight)\n",
    "        \n",
    "        if bias:\n",
    "            self.b = nn.Parameter(torch.zeros(step_dim))\n",
    "        \n",
    "    def forward(self, x, mask=None):\n",
    "        feature_dim = self.feature_dim \n",
    "        step_dim = self.step_dim\n",
    "\n",
    "        eij = torch.mm(\n",
    "            x.contiguous().view(-1, feature_dim), \n",
    "            self.weight\n",
    "        ).view(-1, step_dim)\n",
    "        \n",
    "        if self.bias:\n",
    "            eij = eij + self.b\n",
    "            \n",
    "        eij = torch.tanh(eij)\n",
    "        a = torch.exp(eij)\n",
    "        \n",
    "        if mask is not None:\n",
    "            a = a * mask\n",
    "\n",
    "        a = a / (torch.sum(a, 1, keepdim=True) + 1e-10)\n",
    "        #print(a)\n",
    "        weighted_input = x * torch.unsqueeze(a, -1)\n",
    "        return torch.sum(weighted_input, 1)"
   ]
  },
  {
   "cell_type": "code",
   "execution_count": 51,
   "metadata": {},
   "outputs": [],
   "source": [
    "class LSTM_ATT(nn.Module):\n",
    "    def __init__(self, batch_size, seq_len, att_dim, output_dim=3):\n",
    "        super(LSTM_ATT, self).__init__()\n",
    "        self.input_dim = 1\n",
    "        self.hidden_dim = 4\n",
    "        self.batch_size = batch_size\n",
    "        self.num_layers = 2\n",
    "        self.seq_len = seq_len\n",
    "        self.att_dim = att_dim\n",
    "        self.lstm = nn.LSTM(self.input_dim, self.hidden_dim, self.num_layers)\n",
    "        self.att = Attention(self.att_dim,2)\n",
    "        self.linear_2 = nn.Linear(self.att_dim, output_dim)\n",
    "        self.sigmoid = nn.Sigmoid()\n",
    "    \n",
    "    def forward(self, input):\n",
    "        lstm_out, hidden = self.lstm(input.view(input.size()[0],input.size()[1],-1))#;print(lstm_out.size())\n",
    "        att_out = self.att(lstm_out[-2:].permute(1,0,2))#;print(att_out.size())\n",
    "        output_2 = self.linear_2(att_out)#;print(output_2.size())\n",
    "        y_pred_2 = self.sigmoid(output_2)\n",
    "        return y_pred_2"
   ]
  },
  {
   "cell_type": "code",
   "execution_count": 52,
   "metadata": {},
   "outputs": [
    {
     "name": "stderr",
     "output_type": "stream",
     "text": [
      "/usr/local/lib/python3.6/site-packages/torch/nn/_reduction.py:49: UserWarning: size_average and reduce args will be deprecated, please use reduction='sum' instead.\n",
      "  warnings.warn(warning.format(ret))\n"
     ]
    }
   ],
   "source": [
    "att_dim = 4\n",
    "output_dim = 1\n",
    "lstm_att_model = LSTM_ATT(\n",
    "    batch_size=batch_size, \n",
    "    seq_len = window_size,\n",
    "    att_dim = att_dim,\n",
    "    output_dim=output_dim\n",
    ")\n",
    "lstm_att_model.to(device)\n",
    "\n",
    "learning_rate = 0.002\n",
    "loss_fn = torch.nn.BCELoss(size_average=False)\n",
    "optimiser = torch.optim.Adam(lstm_att_model.parameters(), lr=learning_rate)"
   ]
  },
  {
   "cell_type": "code",
   "execution_count": 53,
   "metadata": {},
   "outputs": [
    {
     "name": "stderr",
     "output_type": "stream",
     "text": [
      "/usr/local/lib/python3.6/site-packages/torch/nn/functional.py:2016: UserWarning: Using a target size (torch.Size([128])) that is different to the input size (torch.Size([128, 1])) is deprecated. Please ensure they have the same size.\n",
      "  \"Please ensure they have the same size.\".format(target.size(), input.size()))\n"
     ]
    },
    {
     "name": "stdout",
     "output_type": "stream",
     "text": [
      "epoch 0: 1.0814871788024902\n",
      "epoch 1: 0.8858824968338013\n",
      "epoch 2: 0.7749894261360168\n",
      "epoch 3: 0.71192467212677\n",
      "epoch 4: 0.6679762005805969\n",
      "epoch 5: 0.6452797651290894\n",
      "epoch 6: 0.6246038675308228\n",
      "epoch 7: 0.60745769739151\n",
      "epoch 8: 0.5958435535430908\n",
      "epoch 9: 0.5850709080696106\n",
      "epoch 10: 0.5758191347122192\n",
      "epoch 11: 0.5741470456123352\n",
      "epoch 12: 0.5712647438049316\n",
      "epoch 13: 0.5594772100448608\n",
      "epoch 14: 0.5561884045600891\n",
      "epoch 15: 0.5548108220100403\n",
      "epoch 16: 0.5500591993331909\n",
      "epoch 17: 0.5465073585510254\n",
      "epoch 18: 0.5456445217132568\n",
      "epoch 19: 0.5437784790992737\n"
     ]
    }
   ],
   "source": [
    "num_epochs = 20\n",
    "batch_size = 128\n",
    "\n",
    "#lstm_att_writer = SummaryWriter()\n",
    "for t in range(num_epochs):\n",
    "    # shuffle data\n",
    "    idx = np.random.permutation(len(train_data))\n",
    "    train_data = train_data[idx]\n",
    "    train_label = train_label[idx]\n",
    "    total_loss = 0\n",
    "    for i in range(len(train_data)//batch_size):\n",
    "        optimiser.zero_grad()\n",
    "        batch_data = train_data[i*batch_size:(i+1)*batch_size].permute(1,0)\n",
    "        batch_label = train_label[i*batch_size:(i+1)*batch_size]\n",
    "        y_pred = lstm_att_model(batch_data)\n",
    "        weight = 4 * (batch_label == 1).float() + torch.ones(batch_size, device=device)\n",
    "        loss = torch.nn.BCELoss(weight=weight)(y_pred, batch_label)\n",
    "        #lstm_att_writer.add_scalar('LSTM-ATT loss', loss, t * len(train_data)//batch_size +i)\n",
    "        total_loss += loss\n",
    "        loss.backward()\n",
    "        optimiser.step()\n",
    "    print(\"epoch {:d}: {}\".format(t, total_loss/(len(train_data)//batch_size)))"
   ]
  },
  {
   "cell_type": "markdown",
   "metadata": {},
   "source": [
    "## Save\n"
   ]
  },
  {
   "cell_type": "code",
   "execution_count": 31,
   "metadata": {},
   "outputs": [
    {
     "name": "stderr",
     "output_type": "stream",
     "text": [
      "/usr/local/lib/python3.6/site-packages/torch/serialization.py:251: UserWarning: Couldn't retrieve source code for container of type ANN. It won't be checked for correctness upon loading.\n",
      "  \"type \" + obj.__name__ + \". It won't be checked \"\n",
      "/usr/local/lib/python3.6/site-packages/torch/serialization.py:251: UserWarning: Couldn't retrieve source code for container of type CNN. It won't be checked for correctness upon loading.\n",
      "  \"type \" + obj.__name__ + \". It won't be checked \"\n",
      "/usr/local/lib/python3.6/site-packages/torch/serialization.py:251: UserWarning: Couldn't retrieve source code for container of type LSTM. It won't be checked for correctness upon loading.\n",
      "  \"type \" + obj.__name__ + \". It won't be checked \"\n",
      "/usr/local/lib/python3.6/site-packages/torch/serialization.py:251: UserWarning: Couldn't retrieve source code for container of type LSTM_ATT. It won't be checked for correctness upon loading.\n",
      "  \"type \" + obj.__name__ + \". It won't be checked \"\n",
      "/usr/local/lib/python3.6/site-packages/torch/serialization.py:251: UserWarning: Couldn't retrieve source code for container of type Attention. It won't be checked for correctness upon loading.\n",
      "  \"type \" + obj.__name__ + \". It won't be checked \"\n"
     ]
    }
   ],
   "source": [
    "for m in [ann_model,cnn_model,lstm_model,lstm_att_model]:\n",
    "    torch.save(m,(str(m).split()[0][:-1])+'_2')\n",
    "#     torch.save"
   ]
  },
  {
   "cell_type": "markdown",
   "metadata": {},
   "source": [
    "## Measure"
   ]
  },
  {
   "cell_type": "code",
   "execution_count": 32,
   "metadata": {},
   "outputs": [],
   "source": [
    "def criteria(pred, label, threshold):\n",
    "    recall = []\n",
    "    precision = []\n",
    "    TP = 0\n",
    "    TN = 0\n",
    "    FP = 0\n",
    "    FN = 0\n",
    "    TP += ((pred > threshold).numpy().flatten()&(label == 1).numpy()).sum()\n",
    "    TN += ((pred < threshold).numpy().flatten()&(label == 0).numpy()).sum()\n",
    "    FP += ((pred > threshold).numpy().flatten()&(label == 0).numpy()).sum()\n",
    "    FN += ((pred < threshold).numpy().flatten()&(label == 1).numpy()).sum()\n",
    "    return TP, TN, FP, FN\n",
    "\n",
    "\n",
    "\n",
    "def plot(pred, label, func, name):\n",
    "    xs = []\n",
    "    ys = []\n",
    "    steps = 1000\n",
    "    l, r = pred.min(), pred.max()\n",
    "    for i in range(steps):\n",
    "        t = l + (r - l) * i / steps\n",
    "        x, y = func(pred, label, t)\n",
    "        xs.append(x)\n",
    "        ys.append(y)\n",
    "    plt.plot(xs, ys,label = name)\n",
    "    plt.xlim(0,1)\n",
    "    plt.ylim(0,1)\n",
    "def get_pr(pred, label, func):\n",
    "    xs = []\n",
    "    ys = []\n",
    "    steps = 1000\n",
    "    l, r = pred.min(), pred.max()\n",
    "    for i in range(steps):\n",
    "        t = l + (r - l) * i / steps\n",
    "        x, y = func(pred, label, t)\n",
    "        xs.append(x)\n",
    "        ys.append(y)\n",
    "    return xs,ys"
   ]
  },
  {
   "cell_type": "code",
   "execution_count": 33,
   "metadata": {},
   "outputs": [],
   "source": [
    "def precision_recall(pred, label, threshold):\n",
    "    TP, TN, FP, FN = criteria(pred, label, threshold)\n",
    "    recall = TP / (TP + FN)\n",
    "    precision = TP / (TP + FP)\n",
    "    return recall, precision\n",
    "\n",
    "def precision_recall_plot(pred, label, name = None):\n",
    "    plot(pred, label, precision_recall, name)"
   ]
  },
  {
   "cell_type": "code",
   "execution_count": 34,
   "metadata": {},
   "outputs": [],
   "source": [
    "def ROC(pred, label, threshold):\n",
    "    TP, TN, FP, FN = criteria(pred, label, threshold)\n",
    "    TPR = TP / (TP + FN)\n",
    "    FPR = FP / (FP + TN)\n",
    "    return FPR, TPR\n",
    "\n",
    "def ROC_plot(pred, label, name = None):\n",
    "    plot(pred, label, ROC, name)"
   ]
  },
  {
   "cell_type": "code",
   "execution_count": 35,
   "metadata": {},
   "outputs": [],
   "source": [
    "y_test = lstm_model(test_data.permute(1,0)).cpu()"
   ]
  },
  {
   "cell_type": "code",
   "execution_count": 36,
   "metadata": {},
   "outputs": [
    {
     "name": "stdout",
     "output_type": "stream",
     "text": [
      "(0.9209302325581395, 0.7021276595744681)\n"
     ]
    },
    {
     "data": {
      "image/png": "[encoded data removed]",
      "text/plain": [
       "<Figure size 432x288 with 1 Axes>"
      ]
     },
     "metadata": {},
     "output_type": "display_data"
    }
   ],
   "source": [
    "print(precision_recall(y_test, test_label, 0.5))\n",
    "precision_recall_plot(y_test, test_label)\n",
    "ROC_plot(y_test, test_label)\n",
    "plt.show()"
   ]
  },
  {
   "cell_type": "code",
   "execution_count": 37,
   "metadata": {},
   "outputs": [
    {
     "name": "stdout",
     "output_type": "stream",
     "text": [
      "(0.9209302325581395, 0.6971830985915493)\n"
     ]
    },
    {
     "data": {
      "image/png": "[encoded data removed]",
      "text/plain": [
       "<Figure size 432x288 with 1 Axes>"
      ]
     },
     "metadata": {},
     "output_type": "display_data"
    }
   ],
   "source": [
    "y_test = cnn_model(test_data).cpu()\n",
    "print(precision_recall(y_test, test_label, 0.5))\n",
    "precision_recall_plot(y_test, test_label)\n",
    "ROC_plot(y_test, test_label)\n",
    "plt.show()"
   ]
  },
  {
   "cell_type": "code",
   "execution_count": 38,
   "metadata": {},
   "outputs": [
    {
     "name": "stdout",
     "output_type": "stream",
     "text": [
      "(0.9093023255813953, 0.7135036496350365)\n"
     ]
    },
    {
     "data": {
      "image/png": "[encoded data removed]",
      "text/plain": [
       "<Figure size 432x288 with 1 Axes>"
      ]
     },
     "metadata": {},
     "output_type": "display_data"
    }
   ],
   "source": [
    "y_test = ann_model(test_data).cpu()\n",
    "print(precision_recall(y_test, test_label, 0.5))\n",
    "precision_recall_plot(y_test, test_label)\n",
    "ROC_plot(y_test, test_label)\n",
    "plt.show()"
   ]
  },
  {
   "cell_type": "code",
   "execution_count": 39,
   "metadata": {},
   "outputs": [],
   "source": [
    "y_test = lstm_att_model(test_data.permute(1,0)).cpu()"
   ]
  },
  {
   "cell_type": "code",
   "execution_count": 40,
   "metadata": {},
   "outputs": [
    {
     "name": "stdout",
     "output_type": "stream",
     "text": [
      "(0.9116279069767442, 0.6735395189003437)\n"
     ]
    },
    {
     "data": {
      "image/png": "[encoded data removed]",
      "text/plain": [
       "<Figure size 432x288 with 1 Axes>"
      ]
     },
     "metadata": {},
     "output_type": "display_data"
    }
   ],
   "source": [
    "print(precision_recall(y_test, test_label, 0.5))\n",
    "precision_recall_plot(y_test, test_label,'P-R curve')\n",
    "ROC_plot(y_test, test_label,'ROC curve')\n",
    "plt.xlabel('recall/FPR')\n",
    "plt.ylabel('precision/TPR')\n",
    "plt.legend()\n",
    "plt.show()"
   ]
  },
  {
   "cell_type": "code",
   "execution_count": 54,
   "metadata": {},
   "outputs": [],
   "source": [
    "y_test_lstm = lstm_model(test_data.permute(1,0)).cpu()\n",
    "y_test_cnn = cnn_model(test_data).cpu()\n",
    "y_test_ann = ann_model(test_data).cpu()\n",
    "y_test_lstm_att = lstm_att_model(test_data.permute(1,0)).cpu()\n"
   ]
  },
  {
   "cell_type": "code",
   "execution_count": 55,
   "metadata": {},
   "outputs": [
    {
     "data": {
      "image/png": "[encoded data removed]",
      "text/plain": [
       "<Figure size 432x288 with 1 Axes>"
      ]
     },
     "metadata": {},
     "output_type": "display_data"
    }
   ],
   "source": [
    "ROC_plot(y_test_lstm, test_label, name = 'lstm')\n",
    "ROC_plot(y_test_cnn, test_label, name = 'cnn')\n",
    "ROC_plot(y_test_ann, test_label, name = 'ann')\n",
    "ROC_plot(y_test_lstm_att, test_label, name = 'lstm_att')\n",
    "plt.legend()\n",
    "plt.title('ROC compare among models')\n",
    "plt.show()"
   ]
  },
  {
   "cell_type": "code",
   "execution_count": 56,
   "metadata": {},
   "outputs": [],
   "source": [
    "ratio = test_label.cpu().numpy().sum()/len(test_label)"
   ]
  },
  {
   "cell_type": "code",
   "execution_count": 57,
   "metadata": {},
   "outputs": [],
   "source": [
    "precision_lower_bound = []\n",
    "recall_lower_bound = []\n",
    "for i in range(1000):\n",
    "    precision_lower_bound.append(ratio)\n",
    "    recall_lower_bound.append(i*0.001)"
   ]
  },
  {
   "cell_type": "code",
   "execution_count": 58,
   "metadata": {
    "scrolled": true
   },
   "outputs": [
    {
     "data": {
      "image/png": "[encoded data removed]",
      "text/plain": [
       "<Figure size 432x288 with 1 Axes>"
      ]
     },
     "metadata": {},
     "output_type": "display_data"
    }
   ],
   "source": [
    "precision_recall_plot(y_test_lstm, test_label, name = 'lstm')\n",
    "precision_recall_plot(y_test_cnn, test_label, name = 'cnn')\n",
    "precision_recall_plot(y_test_ann, test_label, name = 'ann')\n",
    "precision_recall_plot(y_test_lstm_att, test_label, name = 'lstm_att')\n",
    "plt.plot(recall_lower_bound,precision_lower_bound,'--',label = 'lower bound')\n",
    "plt.legend()\n",
    "plt.title('P-R curve compare among models')\n",
    "plt.show()"
   ]
  },
  {
   "cell_type": "code",
   "execution_count": 59,
   "metadata": {},
   "outputs": [],
   "source": [
    "def encode(z):\n",
    "    res = 0\n",
    "    for i in z:\n",
    "        res *= 2\n",
    "        res += i\n",
    "    return res\n",
    "\n",
    "data = {}\n",
    "for i in range(len(test_label)):\n",
    "    x = encode(test_data[i])\n",
    "    if x in data:\n",
    "        data[x]['count'] += 1\n",
    "        data[x]['label'] += test_label[i]\n",
    "    else:\n",
    "        data[x] = {'count': 1, 'label': test_label[i]}\n",
    "\n",
    "y_pred = []\n",
    "for z in test_data:\n",
    "    x = encode(z)\n",
    "    if x in data:\n",
    "        y_pred.append(data[x]['label'] / data[x]['count'])\n",
    "    else:\n",
    "        y_pred.append(0)\n",
    "y_pred = np.array(y_pred)"
   ]
  },
  {
   "cell_type": "code",
   "execution_count": 61,
   "metadata": {},
   "outputs": [
    {
     "data": {
      "image/png": "[encoded data removed]",
      "text/plain": [
       "<Figure size 720x576 with 1 Axes>"
      ]
     },
     "metadata": {},
     "output_type": "display_data"
    }
   ],
   "source": [
    "plt.figure(figsize = (10,8))\n",
    "plt.clf()\n",
    "r,p = get_pr(y_test_ann,test_label,precision_recall)\n",
    "plt.plot(r,p, label='ANN', linewidth=2, color = 'blue')\n",
    "r,p = get_pr(y_test_cnn,test_label,precision_recall)\n",
    "plt.plot(r,p, label='CNN', linewidth=2, color = 'green')\n",
    "r,p = get_pr(y_test_lstm,test_label,precision_recall)\n",
    "plt.plot(r,p, label='LSTM', linewidth=2, color = 'cyan')\n",
    "r,p = get_pr(y_test_lstm_att,test_label,precision_recall)\n",
    "plt.plot(r,p, label='LSTM with Attention', linewidth=2, color = 'red')\n",
    "f = open('upperbound_recall_2','rb')\n",
    "r = pickle.load(f)\n",
    "f.close()\n",
    "f = open('upperbound_precision_2','rb')\n",
    "p = pickle.load(f)\n",
    "f.close()\n",
    "plt.plot(r,p, '--', label='Upper Bound', linewidth=2, color = 'black')\n",
    "plt.plot(recall_lower_bound,precision_lower_bound,'-.',label = 'Lower Bound',linewidth=2, color = 'black')\n",
    "plt.xlabel('Recall')\n",
    "plt.ylabel('Precision')\n",
    "plt.ylim([0.0, 1.05])\n",
    "plt.xlim([0.0, 1.0])\n",
    "plt.title('P-R Curve of NN-based Methods')\n",
    "plt.legend(prop = {'size': 10},loc = 6)\n",
    "plt.savefig('P-R Curve NN(Revert).jpg')"
   ]
  },
  {
   "cell_type": "code",
   "execution_count": 60,
   "metadata": {},
   "outputs": [],
   "source": [
    "# import pickle\n",
    "# filename = [\"train_data\", \"train_label\", \"test_data\", \"test_label\"]\n",
    "# file = [train_data, train_label, test_data, test_label]\n",
    "# for f,d in zip(filename,file):\n",
    "# #     pass\n",
    "#     save = open(f,'wb')\n",
    "#     pickle.dump(d.cpu().numpy(),save)"
   ]
  },
  {
   "cell_type": "code",
   "execution_count": null,
   "metadata": {},
   "outputs": [],
   "source": []
  }
 ],
 "metadata": {
  "kernelspec": {
   "display_name": "Python 3",
   "language": "python",
   "name": "python3"
  },
  "language_info": {
   "codemirror_mode": {
    "name": "ipython",
    "version": 3
   },
   "file_extension": ".py",
   "mimetype": "text/x-python",
   "name": "python",
   "nbconvert_exporter": "python",
   "pygments_lexer": "ipython3",
   "version": "3.6.4"
  }
 },
 "nbformat": 4,
 "nbformat_minor": 2
}
