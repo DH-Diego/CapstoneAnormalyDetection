{
 "cells": [
  {
   "cell_type": "code",
   "execution_count": 5,
   "metadata": {},
   "outputs": [],
   "source": [
    "import sys\n",
    "sys.path.append('../data_generated_library')\n",
    "import numpy as np\n",
    "import pandas as pd\n",
    "from sklearn.model_selection import train_test_split\n",
    "import credit_card_data\n",
    "import pickle\n",
    "import torch.nn as nn\n",
    "import torch\n",
    "import torch.nn.functional as F\n",
    "# from torch.utils.tensorboard import SummaryWriter\n",
    "import matplotlib.pyplot as plt"
   ]
  },
  {
   "cell_type": "markdown",
   "metadata": {},
   "source": [
    "## data generation"
   ]
  },
  {
   "cell_type": "code",
   "execution_count": 2,
   "metadata": {},
   "outputs": [],
   "source": [
    "device = torch.device(\"cuda:0\" if torch.cuda.is_available() else \"cpu\")"
   ]
  },
  {
   "cell_type": "code",
   "execution_count": 28,
   "metadata": {},
   "outputs": [],
   "source": [
    "train_data = pickle.load(open('../data_1/train_data_HMM','rb'))\n",
    "train_label= pickle.load(open('../data_1/train_label_HMM','rb'))\n",
    "test_data = pickle.load(open('../data_1/test_data_HMM','rb'))\n",
    "test_label = pickle.load(open('../data_1/test_label_HMM','rb'))"
   ]
  },
  {
   "cell_type": "code",
   "execution_count": 18,
   "metadata": {},
   "outputs": [],
   "source": [
    "train_data_2 = pickle.load(open('../data_2/train_data','rb'))\n",
    "train_label_2= pickle.load(open('../data_2/train_label','rb'))\n",
    "test_data_2 = pickle.load(open('../data_2/test_data','rb'))\n",
    "test_label_2 = pickle.load(open('../data_2/test_label','rb'))"
   ]
  },
  {
   "cell_type": "code",
   "execution_count": 21,
   "metadata": {},
   "outputs": [],
   "source": [
    "window_size = 30"
   ]
  },
  {
   "cell_type": "code",
   "execution_count": 29,
   "metadata": {},
   "outputs": [],
   "source": [
    "train_data = torch.tensor(train_data)\n",
    "test_data = torch.tensor(test_data)\n",
    "train_label = torch.tensor(train_label)\n",
    "test_label = torch.tensor(test_label)"
   ]
  },
  {
   "cell_type": "code",
   "execution_count": 27,
   "metadata": {},
   "outputs": [],
   "source": [
    "train_data_2 = torch.tensor(train_data_2)\n",
    "test_data_2 = torch.tensor(test_data_2)\n",
    "train_label_2 = torch.tensor(train_label_2)\n",
    "test_label_2 = torch.tensor(test_label_2)"
   ]
  },
  {
   "cell_type": "markdown",
   "metadata": {},
   "source": [
    "## ANN"
   ]
  },
  {
   "cell_type": "code",
   "execution_count": 30,
   "metadata": {},
   "outputs": [],
   "source": [
    "class ANN(nn.Module):\n",
    "    def __init__(self, input_dim, output_dim):\n",
    "        super(ANN, self).__init__()\n",
    "        hidden_dim = input_dim // 2\n",
    "        self.linear1 = nn.Linear(input_dim, hidden_dim)\n",
    "        self.linear2 = nn.Linear(hidden_dim, output_dim)\n",
    "    \n",
    "    def forward(self, input_data):\n",
    "        l1 = self.linear1(input_data)\n",
    "        l2 = self.linear2(l1)\n",
    "        y_pred = nn.Sigmoid()(l2)\n",
    "        return y_pred"
   ]
  },
  {
   "cell_type": "code",
   "execution_count": 31,
   "metadata": {},
   "outputs": [
    {
     "name": "stderr",
     "output_type": "stream",
     "text": [
      "/usr/local/lib/python3.6/site-packages/torch/nn/_reduction.py:49: UserWarning: size_average and reduce args will be deprecated, please use reduction='sum' instead.\n",
      "  warnings.warn(warning.format(ret))\n"
     ]
    }
   ],
   "source": [
    "ann_model = ANN(input_dim=window_size, output_dim=1)\n",
    "ann_model.to(device)\n",
    "\n",
    "learning_rate = 0.01\n",
    "loss_fn = torch.nn.BCELoss(size_average=False)\n",
    "optimiser = torch.optim.Adam(ann_model.parameters(), lr=learning_rate)"
   ]
  },
  {
   "cell_type": "code",
   "execution_count": 32,
   "metadata": {},
   "outputs": [
    {
     "name": "stderr",
     "output_type": "stream",
     "text": [
      "/usr/local/lib/python3.6/site-packages/torch/nn/functional.py:2016: UserWarning: Using a target size (torch.Size([128])) that is different to the input size (torch.Size([128, 1])) is deprecated. Please ensure they have the same size.\n",
      "  \"Please ensure they have the same size.\".format(target.size(), input.size()))\n"
     ]
    },
    {
     "name": "stdout",
     "output_type": "stream",
     "text": [
      "epoch 0: 1.1404509544372559\n",
      "epoch 1: 1.10979163646698\n",
      "epoch 2: 1.1114720106124878\n",
      "epoch 3: 1.1086112260818481\n",
      "epoch 4: 1.1074323654174805\n",
      "epoch 5: 1.106515645980835\n",
      "epoch 6: 1.1057275533676147\n",
      "epoch 7: 1.1068226099014282\n",
      "epoch 8: 1.1079463958740234\n",
      "epoch 9: 1.1091309785842896\n"
     ]
    }
   ],
   "source": [
    "num_epochs = 10\n",
    "batch_size = 128\n",
    "\n",
    "#ann_writer = SummaryWriter()\n",
    "for t in range(num_epochs):\n",
    "    # shuffle data\n",
    "    idx = np.random.permutation(len(train_data))\n",
    "    train_data = train_data[idx]\n",
    "    train_label = train_label[idx]\n",
    "    total_loss = 0\n",
    "    for i in range(len(train_data)//batch_size):\n",
    "        optimiser.zero_grad()\n",
    "        batch_data = train_data[i*batch_size:(i+1)*batch_size]\n",
    "        batch_label = train_label[i*batch_size:(i+1)*batch_size]\n",
    "        y_pred = ann_model(batch_data)\n",
    "        weight = 4 * (batch_label == 1).float() + torch.ones(batch_size, device=device)\n",
    "        loss = torch.nn.BCELoss(weight=weight)(y_pred, batch_label)\n",
    "        #ann_writer.add_scalar('ANN loss', loss, t * len(train_data)//batch_size +i)\n",
    "        total_loss += loss\n",
    "        loss.backward()\n",
    "        optimiser.step()\n",
    "    print(\"epoch {:d}: {}\".format(t, total_loss/(len(train_data_1)//batch_size)))"
   ]
  },
  {
   "cell_type": "markdown",
   "metadata": {},
   "source": [
    "## LSTM"
   ]
  },
  {
   "cell_type": "code",
   "execution_count": 33,
   "metadata": {},
   "outputs": [],
   "source": [
    "class LSTM(nn.Module):\n",
    "    def __init__(self, output_dim, bidirectional=False):\n",
    "        super(LSTM, self).__init__()\n",
    "        self.input_dim = 1\n",
    "        self.hidden_dim = 3\n",
    "        self.num_layers = 2\n",
    "        self.lstm = nn.LSTM(self.input_dim, self.hidden_dim, self.num_layers, bidirectional=bidirectional)\n",
    "        self.linear = nn.Linear((bidirectional+1)*self.hidden_dim, output_dim)\n",
    "    \n",
    "    def forward(self, input_data):\n",
    "        lstm_out, hidden = self.lstm(input_data.view(input_data.size()[0], input_data.size()[1], -1))\n",
    "        linear = self.linear(lstm_out[-1])\n",
    "        y_pred = nn.Sigmoid()(linear)\n",
    "        return y_pred"
   ]
  },
  {
   "cell_type": "code",
   "execution_count": 34,
   "metadata": {
    "scrolled": true
   },
   "outputs": [
    {
     "name": "stderr",
     "output_type": "stream",
     "text": [
      "/usr/local/lib/python3.6/site-packages/torch/nn/_reduction.py:49: UserWarning: size_average and reduce args will be deprecated, please use reduction='sum' instead.\n",
      "  warnings.warn(warning.format(ret))\n"
     ]
    }
   ],
   "source": [
    "lstm_model = LSTM(output_dim=1)\n",
    "lstm_model.to(device)\n",
    "\n",
    "learning_rate = 0.01\n",
    "loss_fn = torch.nn.BCELoss(size_average=False)\n",
    "optimiser = torch.optim.Adam(lstm_model.parameters(), lr=learning_rate)"
   ]
  },
  {
   "cell_type": "code",
   "execution_count": 35,
   "metadata": {},
   "outputs": [
    {
     "name": "stderr",
     "output_type": "stream",
     "text": [
      "/usr/local/lib/python3.6/site-packages/torch/nn/functional.py:2016: UserWarning: Using a target size (torch.Size([128])) that is different to the input size (torch.Size([128, 1])) is deprecated. Please ensure they have the same size.\n",
      "  \"Please ensure they have the same size.\".format(target.size(), input.size()))\n"
     ]
    },
    {
     "name": "stdout",
     "output_type": "stream",
     "text": [
      "epoch 0: 1.1907179355621338\n",
      "epoch 1: 1.116572618484497\n",
      "epoch 2: 1.1070588827133179\n",
      "epoch 3: 1.103430986404419\n",
      "epoch 4: 1.1038175821304321\n",
      "epoch 5: 1.1018762588500977\n",
      "epoch 6: 1.1039475202560425\n",
      "epoch 7: 1.1027114391326904\n",
      "epoch 8: 1.103000521659851\n",
      "epoch 9: 1.1001060009002686\n"
     ]
    }
   ],
   "source": [
    "num_epochs = 10\n",
    "batch_size = 128\n",
    "\n",
    "#lstm_writer = SummaryWriter()\n",
    "for t in range(num_epochs):\n",
    "    # shuffle data\n",
    "    idx = np.random.permutation(len(train_data))\n",
    "    train_data = train_data[idx]\n",
    "    train_label = train_label[idx]\n",
    "    total_loss = 0\n",
    "    for i in range(len(train_data)//batch_size):\n",
    "        optimiser.zero_grad()\n",
    "        batch_data = train_data[i*batch_size:(i+1)*batch_size].permute(1,0)\n",
    "        batch_label = train_label[i*batch_size:(i+1)*batch_size]\n",
    "        y_pred = lstm_model(batch_data)\n",
    "        weight = 4 * (batch_label == 1).float() + torch.ones(batch_size, device=device)\n",
    "        loss = torch.nn.BCELoss(weight=weight)(y_pred, batch_label)\n",
    "        #lstm_writer.add_scalar('LSTM loss', loss, t * len(train_data)//batch_size +i)\n",
    "        total_loss += loss\n",
    "        loss.backward()\n",
    "        optimiser.step()\n",
    "    print(\"epoch {:d}: {}\".format(t, total_loss/(len(train_data)//batch_size)))"
   ]
  },
  {
   "cell_type": "markdown",
   "metadata": {},
   "source": [
    "## CNN"
   ]
  },
  {
   "cell_type": "code",
   "execution_count": 36,
   "metadata": {},
   "outputs": [],
   "source": [
    "class CNN(nn.Module):\n",
    "    def __init__(self, input_dim, output_dim):\n",
    "        super(CNN, self).__init__()\n",
    "        kernel_size = 3\n",
    "        self.input_dim = input_dim\n",
    "        self.conv1 = torch.nn.Conv1d(in_channels=1, out_channels=3, kernel_size=kernel_size)\n",
    "        self.conv2 = torch.nn.Conv1d(in_channels=3, out_channels=3, kernel_size=kernel_size)\n",
    "        self.linear1 = nn.Linear((input_dim-2*(kernel_size-1))*3, 10)\n",
    "        self.linear2 = nn.Linear(10, output_dim)\n",
    "        self.sigmoid = nn.Sigmoid()\n",
    "    \n",
    "    def forward(self, input_data):\n",
    "        conv_out1 = self.conv1(input_data.view(input_data.size()[0], 1, input_data.size()[1]))\n",
    "        conv_out1 = nn.ReLU()(conv_out1)\n",
    "        conv_out2 = self.conv2(conv_out1)\n",
    "        conv_out2 = nn.ReLU()(conv_out2)\n",
    "        linear1 = self.linear1(conv_out2.view(conv_out2.size()[0], -1))\n",
    "        linear1 = nn.ReLU()(linear1)\n",
    "        linear2 = self.linear2(linear1)\n",
    "        y_pred = self.sigmoid(linear2)\n",
    "        return y_pred"
   ]
  },
  {
   "cell_type": "code",
   "execution_count": 37,
   "metadata": {},
   "outputs": [
    {
     "name": "stderr",
     "output_type": "stream",
     "text": [
      "/usr/local/lib/python3.6/site-packages/torch/nn/_reduction.py:49: UserWarning: size_average and reduce args will be deprecated, please use reduction='sum' instead.\n",
      "  warnings.warn(warning.format(ret))\n"
     ]
    }
   ],
   "source": [
    "cnn_model = CNN(input_dim=window_size, output_dim=1)\n",
    "cnn_model.to(device)\n",
    "\n",
    "learning_rate = 0.01\n",
    "loss_fn = torch.nn.BCELoss(size_average=False)\n",
    "optimiser = torch.optim.Adam(cnn_model.parameters(), lr=learning_rate)"
   ]
  },
  {
   "cell_type": "code",
   "execution_count": 38,
   "metadata": {},
   "outputs": [
    {
     "name": "stderr",
     "output_type": "stream",
     "text": [
      "/usr/local/lib/python3.6/site-packages/torch/nn/functional.py:2016: UserWarning: Using a target size (torch.Size([128])) that is different to the input size (torch.Size([128, 1])) is deprecated. Please ensure they have the same size.\n",
      "  \"Please ensure they have the same size.\".format(target.size(), input.size()))\n"
     ]
    },
    {
     "name": "stdout",
     "output_type": "stream",
     "text": [
      "epoch 0: 1.2258312702178955\n",
      "epoch 1: 1.2076956033706665\n",
      "epoch 2: 1.1432021856307983\n",
      "epoch 3: 1.1075949668884277\n",
      "epoch 4: 1.1011613607406616\n",
      "epoch 5: 1.1021231412887573\n",
      "epoch 6: 1.100456953048706\n",
      "epoch 7: 1.099123477935791\n",
      "epoch 8: 1.0991665124893188\n",
      "epoch 9: 1.094250202178955\n"
     ]
    }
   ],
   "source": [
    "num_epochs = 10\n",
    "batch_size = 128\n",
    "\n",
    "#cnn_writer = SummaryWriter()\n",
    "for t in range(num_epochs):\n",
    "    # shuffle data\n",
    "    idx = np.random.permutation(len(train_data))\n",
    "    train_data = train_data[idx]\n",
    "    train_label = train_label[idx]\n",
    "    total_loss = 0\n",
    "    for i in range(len(train_data)//batch_size):\n",
    "        optimiser.zero_grad()\n",
    "        batch_data = train_data[i*batch_size:(i+1)*batch_size]\n",
    "        batch_label = train_label[i*batch_size:(i+1)*batch_size]\n",
    "        y_pred = cnn_model(batch_data)\n",
    "        weight = 4 * (batch_label == 1).float() + torch.ones(batch_size, device=device)\n",
    "        loss = torch.nn.BCELoss(weight=weight)(y_pred, batch_label)\n",
    "        #cnn_writer.add_scalar('CNN loss', loss, t * len(train_data)//batch_size +i)\n",
    "        total_loss += loss\n",
    "        loss.backward()\n",
    "        optimiser.step()\n",
    "    print(\"epoch {:d}: {}\".format(t, total_loss/(len(train_data)//batch_size)))"
   ]
  },
  {
   "cell_type": "markdown",
   "metadata": {},
   "source": [
    "## LSTM + Attention"
   ]
  },
  {
   "cell_type": "code",
   "execution_count": 39,
   "metadata": {},
   "outputs": [],
   "source": [
    "## Attention Layer\n",
    "class Attention(nn.Module):\n",
    "    def __init__(self, feature_dim, step_dim, bias=True, **kwargs):\n",
    "        super(Attention, self).__init__(**kwargs)\n",
    "        \n",
    "        self.supports_masking = True\n",
    "\n",
    "        self.bias = bias\n",
    "        self.feature_dim = feature_dim\n",
    "        self.step_dim = step_dim\n",
    "        self.features_dim = 0\n",
    "        \n",
    "        weight = torch.zeros(feature_dim, 1)\n",
    "        nn.init.kaiming_uniform_(weight)\n",
    "        self.weight = nn.Parameter(weight)\n",
    "        \n",
    "        if bias:\n",
    "            self.b = nn.Parameter(torch.zeros(step_dim))\n",
    "        \n",
    "    def forward(self, x, mask=None):\n",
    "        feature_dim = self.feature_dim \n",
    "        step_dim = self.step_dim\n",
    "\n",
    "        eij = torch.mm(\n",
    "            x.contiguous().view(-1, feature_dim), \n",
    "            self.weight\n",
    "        ).view(-1, step_dim)\n",
    "        \n",
    "        if self.bias:\n",
    "            eij = eij + self.b\n",
    "            \n",
    "        eij = torch.tanh(eij)\n",
    "        a = torch.exp(eij)\n",
    "        \n",
    "        if mask is not None:\n",
    "            a = a * mask\n",
    "\n",
    "        a = a / (torch.sum(a, 1, keepdim=True) + 1e-10)\n",
    "        #print(a)\n",
    "        weighted_input = x * torch.unsqueeze(a, -1)\n",
    "        return torch.sum(weighted_input, 1)"
   ]
  },
  {
   "cell_type": "code",
   "execution_count": 40,
   "metadata": {},
   "outputs": [],
   "source": [
    "class LSTM_ATT(nn.Module):\n",
    "    def __init__(self, batch_size, seq_len, att_dim, output_dim=3):\n",
    "        super(LSTM_ATT, self).__init__()\n",
    "        self.input_dim = 1\n",
    "        self.hidden_dim = 4\n",
    "        self.batch_size = batch_size\n",
    "        self.num_layers = 2\n",
    "        self.seq_len = seq_len\n",
    "        self.att_dim = att_dim\n",
    "        self.lstm = nn.LSTM(self.input_dim, self.hidden_dim, self.num_layers)\n",
    "        self.att = Attention(self.att_dim,2)\n",
    "        self.linear_2 = nn.Linear(self.att_dim, output_dim)\n",
    "        self.sigmoid = nn.Sigmoid()\n",
    "    \n",
    "    def forward(self, input):\n",
    "        lstm_out, hidden = self.lstm(input.view(input.size()[0],input.size()[1],-1))#;print(lstm_out.size())\n",
    "        att_out = self.att(lstm_out[-2:].permute(1,0,2))#;print(att_out.size())\n",
    "        output_2 = self.linear_2(att_out)#;print(output_2.size())\n",
    "        y_pred_2 = self.sigmoid(output_2)\n",
    "        return y_pred_2"
   ]
  },
  {
   "cell_type": "code",
   "execution_count": 41,
   "metadata": {},
   "outputs": [
    {
     "name": "stderr",
     "output_type": "stream",
     "text": [
      "/usr/local/lib/python3.6/site-packages/torch/nn/_reduction.py:49: UserWarning: size_average and reduce args will be deprecated, please use reduction='sum' instead.\n",
      "  warnings.warn(warning.format(ret))\n"
     ]
    }
   ],
   "source": [
    "att_dim = 4\n",
    "output_dim = 1\n",
    "lstm_att_model = LSTM_ATT(\n",
    "    batch_size=batch_size, \n",
    "    seq_len = window_size,\n",
    "    att_dim = att_dim,\n",
    "    output_dim=output_dim\n",
    ")\n",
    "lstm_att_model.to(device)\n",
    "\n",
    "learning_rate = 0.002\n",
    "loss_fn = torch.nn.BCELoss(size_average=False)\n",
    "optimiser = torch.optim.Adam(lstm_att_model.parameters(), lr=learning_rate)"
   ]
  },
  {
   "cell_type": "code",
   "execution_count": 42,
   "metadata": {},
   "outputs": [
    {
     "name": "stderr",
     "output_type": "stream",
     "text": [
      "/usr/local/lib/python3.6/site-packages/torch/nn/functional.py:2016: UserWarning: Using a target size (torch.Size([128])) that is different to the input size (torch.Size([128, 1])) is deprecated. Please ensure they have the same size.\n",
      "  \"Please ensure they have the same size.\".format(target.size(), input.size()))\n"
     ]
    },
    {
     "name": "stdout",
     "output_type": "stream",
     "text": [
      "epoch 0: 1.2216781377792358\n",
      "epoch 1: 1.2126331329345703\n",
      "epoch 2: 1.1989805698394775\n",
      "epoch 3: 1.1687747240066528\n",
      "epoch 4: 1.1331933736801147\n",
      "epoch 5: 1.1174827814102173\n",
      "epoch 6: 1.1076538562774658\n",
      "epoch 7: 1.1032522916793823\n",
      "epoch 8: 1.104845643043518\n",
      "epoch 9: 1.101712942123413\n"
     ]
    }
   ],
   "source": [
    "num_epochs = 10\n",
    "batch_size = 128\n",
    "\n",
    "#lstm_att_writer = SummaryWriter()\n",
    "for t in range(num_epochs):\n",
    "    # shuffle data\n",
    "    idx = np.random.permutation(len(train_data))\n",
    "    train_data = train_data[idx]\n",
    "    train_label = train_label[idx]\n",
    "    total_loss = 0\n",
    "    for i in range(len(train_data)//batch_size):\n",
    "        optimiser.zero_grad()\n",
    "        batch_data = train_data[i*batch_size:(i+1)*batch_size].permute(1,0)\n",
    "        batch_label = train_label[i*batch_size:(i+1)*batch_size]\n",
    "        y_pred = lstm_att_model(batch_data)\n",
    "        weight = 4 * (batch_label == 1).float() + torch.ones(batch_size, device=device)\n",
    "        loss = torch.nn.BCELoss(weight=weight)(y_pred, batch_label)\n",
    "        #lstm_att_writer.add_scalar('LSTM-ATT loss', loss, t * len(train_data)//batch_size +i)\n",
    "        total_loss += loss\n",
    "        loss.backward()\n",
    "        optimiser.step()\n",
    "    print(\"epoch {:d}: {}\".format(t, total_loss/(len(train_data)//batch_size)))"
   ]
  },
  {
   "cell_type": "markdown",
   "metadata": {},
   "source": [
    "## Save\n"
   ]
  },
  {
   "cell_type": "code",
   "execution_count": 43,
   "metadata": {},
   "outputs": [
    {
     "name": "stderr",
     "output_type": "stream",
     "text": [
      "/usr/local/lib/python3.6/site-packages/torch/serialization.py:251: UserWarning: Couldn't retrieve source code for container of type ANN. It won't be checked for correctness upon loading.\n",
      "  \"type \" + obj.__name__ + \". It won't be checked \"\n",
      "/usr/local/lib/python3.6/site-packages/torch/serialization.py:251: UserWarning: Couldn't retrieve source code for container of type CNN. It won't be checked for correctness upon loading.\n",
      "  \"type \" + obj.__name__ + \". It won't be checked \"\n",
      "/usr/local/lib/python3.6/site-packages/torch/serialization.py:251: UserWarning: Couldn't retrieve source code for container of type LSTM. It won't be checked for correctness upon loading.\n",
      "  \"type \" + obj.__name__ + \". It won't be checked \"\n",
      "/usr/local/lib/python3.6/site-packages/torch/serialization.py:251: UserWarning: Couldn't retrieve source code for container of type LSTM_ATT. It won't be checked for correctness upon loading.\n",
      "  \"type \" + obj.__name__ + \". It won't be checked \"\n",
      "/usr/local/lib/python3.6/site-packages/torch/serialization.py:251: UserWarning: Couldn't retrieve source code for container of type Attention. It won't be checked for correctness upon loading.\n",
      "  \"type \" + obj.__name__ + \". It won't be checked \"\n"
     ]
    }
   ],
   "source": [
    "for m in [ann_model,cnn_model,lstm_model,lstm_att_model]:\n",
    "    torch.save(m,(str(m).split()[0][:-1]))\n",
    "#     torch.save"
   ]
  },
  {
   "cell_type": "markdown",
   "metadata": {},
   "source": [
    "## Measure"
   ]
  },
  {
   "cell_type": "code",
   "execution_count": 44,
   "metadata": {},
   "outputs": [],
   "source": [
    "def criteria(pred, label, threshold):\n",
    "    recall = []\n",
    "    precision = []\n",
    "    TP = 0\n",
    "    TN = 0\n",
    "    FP = 0\n",
    "    FN = 0\n",
    "    TP += ((pred > threshold).numpy().flatten()&(label == 1).numpy()).sum()\n",
    "    TN += ((pred < threshold).numpy().flatten()&(label == 0).numpy()).sum()\n",
    "    FP += ((pred > threshold).numpy().flatten()&(label == 0).numpy()).sum()\n",
    "    FN += ((pred < threshold).numpy().flatten()&(label == 1).numpy()).sum()\n",
    "    return TP, TN, FP, FN\n",
    "\n",
    "\n",
    "\n",
    "def plot(pred, label, func, name):\n",
    "    xs = []\n",
    "    ys = []\n",
    "    steps = 1000\n",
    "    l, r = pred.min(), pred.max()\n",
    "    for i in range(steps):\n",
    "        t = l + (r - l) * i / steps\n",
    "        x, y = func(pred, label, t)\n",
    "        xs.append(x)\n",
    "        ys.append(y)\n",
    "    plt.plot(xs, ys,label = name)\n",
    "    plt.xlim(0,1)\n",
    "    plt.ylim(0,1)\n",
    "def get_pr(pred, label, func):\n",
    "    xs = []\n",
    "    ys = []\n",
    "    steps = 1000\n",
    "    l, r = pred.min(), pred.max()\n",
    "    for i in range(steps):\n",
    "        t = l + (r - l) * i / steps\n",
    "        x, y = func(pred, label, t)\n",
    "        xs.append(x)\n",
    "        ys.append(y)\n",
    "    return xs,ys"
   ]
  },
  {
   "cell_type": "code",
   "execution_count": 45,
   "metadata": {},
   "outputs": [],
   "source": [
    "def precision_recall(pred, label, threshold):\n",
    "    TP, TN, FP, FN = criteria(pred, label, threshold)\n",
    "    recall = TP / (TP + FN)\n",
    "    precision = TP / (TP + FP)\n",
    "    return recall, precision\n",
    "\n",
    "def precision_recall_plot(pred, label, name = None):\n",
    "    plot(pred, label, precision_recall, name)"
   ]
  },
  {
   "cell_type": "code",
   "execution_count": 46,
   "metadata": {},
   "outputs": [],
   "source": [
    "def ROC(pred, label, threshold):\n",
    "    TP, TN, FP, FN = criteria(pred, label, threshold)\n",
    "    TPR = TP / (TP + FN)\n",
    "    FPR = FP / (FP + TN)\n",
    "    return FPR, TPR\n",
    "\n",
    "def ROC_plot(pred, label, name = None):\n",
    "    plot(pred, label, ROC, name)"
   ]
  },
  {
   "cell_type": "code",
   "execution_count": 47,
   "metadata": {},
   "outputs": [],
   "source": [
    "y_test = lstm_model(test_data.permute(1,0)).cpu()"
   ]
  },
  {
   "cell_type": "code",
   "execution_count": 48,
   "metadata": {},
   "outputs": [
    {
     "name": "stdout",
     "output_type": "stream",
     "text": [
      "(0.5384615384615384, 0.35304347826086957)\n"
     ]
    },
    {
     "data": {
      "image/png": "[encoded data removed]",
      "text/plain": [
       "<Figure size 432x288 with 1 Axes>"
      ]
     },
     "metadata": {},
     "output_type": "display_data"
    }
   ],
   "source": [
    "print(precision_recall(y_test, test_label, 0.5))\n",
    "precision_recall_plot(y_test, test_label)\n",
    "ROC_plot(y_test, test_label)\n",
    "plt.show()"
   ]
  },
  {
   "cell_type": "code",
   "execution_count": 49,
   "metadata": {},
   "outputs": [
    {
     "name": "stdout",
     "output_type": "stream",
     "text": [
      "(0.5358090185676393, 0.3494809688581315)\n"
     ]
    },
    {
     "data": {
      "image/png": "[encoded data removed]",
      "text/plain": [
       "<Figure size 432x288 with 1 Axes>"
      ]
     },
     "metadata": {},
     "output_type": "display_data"
    }
   ],
   "source": [
    "y_test = cnn_model(test_data).cpu()\n",
    "print(precision_recall(y_test, test_label, 0.5))\n",
    "precision_recall_plot(y_test, test_label)\n",
    "ROC_plot(y_test, test_label)\n",
    "plt.show()"
   ]
  },
  {
   "cell_type": "code",
   "execution_count": 50,
   "metadata": {},
   "outputs": [
    {
     "name": "stdout",
     "output_type": "stream",
     "text": [
      "(0.5358090185676393, 0.36528028933092227)\n"
     ]
    },
    {
     "data": {
      "image/png": "[encoded data removed]",
      "text/plain": [
       "<Figure size 432x288 with 1 Axes>"
      ]
     },
     "metadata": {},
     "output_type": "display_data"
    }
   ],
   "source": [
    "y_test = ann_model(test_data).cpu()\n",
    "print(precision_recall(y_test, test_label, 0.5))\n",
    "precision_recall_plot(y_test, test_label)\n",
    "ROC_plot(y_test, test_label)\n",
    "plt.show()"
   ]
  },
  {
   "cell_type": "code",
   "execution_count": 51,
   "metadata": {},
   "outputs": [],
   "source": [
    "y_test = lstm_att_model(test_data.permute(1,0)).cpu()"
   ]
  },
  {
   "cell_type": "code",
   "execution_count": 52,
   "metadata": {},
   "outputs": [
    {
     "name": "stdout",
     "output_type": "stream",
     "text": [
      "(0.5384615384615384, 0.35802469135802467)\n"
     ]
    },
    {
     "data": {
      "image/png": "[encoded data removed]",
      "text/plain": [
       "<Figure size 432x288 with 1 Axes>"
      ]
     },
     "metadata": {},
     "output_type": "display_data"
    }
   ],
   "source": [
    "print(precision_recall(y_test, test_label, 0.5))\n",
    "precision_recall_plot(y_test, test_label,'P-R curve')\n",
    "ROC_plot(y_test, test_label,'ROC curve')\n",
    "plt.xlabel('recall/FPR')\n",
    "plt.ylabel('precision/TPR')\n",
    "plt.legend()\n",
    "plt.show()"
   ]
  },
  {
   "cell_type": "code",
   "execution_count": 53,
   "metadata": {},
   "outputs": [],
   "source": [
    "y_test_lstm = lstm_model(test_data.permute(1,0)).cpu()\n",
    "y_test_cnn = cnn_model(test_data).cpu()\n",
    "y_test_ann = ann_model(test_data).cpu()\n",
    "y_test_lstm_att = lstm_att_model(test_data.permute(1,0)).cpu()\n"
   ]
  },
  {
   "cell_type": "code",
   "execution_count": 54,
   "metadata": {},
   "outputs": [
    {
     "data": {
      "image/png": "[encoded data removed]",
      "text/plain": [
       "<Figure size 432x288 with 1 Axes>"
      ]
     },
     "metadata": {},
     "output_type": "display_data"
    }
   ],
   "source": [
    "ROC_plot(y_test_lstm, test_label, name = 'lstm')\n",
    "ROC_plot(y_test_cnn, test_label, name = 'cnn')\n",
    "ROC_plot(y_test_ann, test_label, name = 'ann')\n",
    "ROC_plot(y_test_lstm_att, test_label, name = 'lstm_att')\n",
    "plt.legend()\n",
    "plt.title('ROC compare among models')\n",
    "plt.show()"
   ]
  },
  {
   "cell_type": "code",
   "execution_count": 55,
   "metadata": {},
   "outputs": [],
   "source": [
    "ratio = test_label.cpu().numpy().sum()/len(test_label)"
   ]
  },
  {
   "cell_type": "code",
   "execution_count": 56,
   "metadata": {},
   "outputs": [],
   "source": [
    "precision_lower_bound = []\n",
    "recall_lower_bound = []\n",
    "for i in range(1000):\n",
    "    precision_lower_bound.append(ratio)\n",
    "    recall_lower_bound.append(i*0.001)"
   ]
  },
  {
   "cell_type": "code",
   "execution_count": 57,
   "metadata": {
    "scrolled": true
   },
   "outputs": [
    {
     "data": {
      "image/png": "[encoded data removed]",
      "text/plain": [
       "<Figure size 432x288 with 1 Axes>"
      ]
     },
     "metadata": {},
     "output_type": "display_data"
    }
   ],
   "source": [
    "precision_recall_plot(y_test_lstm, test_label, name = 'lstm')\n",
    "precision_recall_plot(y_test_cnn, test_label, name = 'cnn')\n",
    "precision_recall_plot(y_test_ann, test_label, name = 'ann')\n",
    "precision_recall_plot(y_test_lstm_att, test_label, name = 'lstm_att')\n",
    "plt.plot(recall_lower_bound,precision_lower_bound,'--',label = 'lower bound')\n",
    "plt.legend()\n",
    "plt.title('P-R curve compare among models')\n",
    "plt.show()"
   ]
  },
  {
   "cell_type": "code",
   "execution_count": 58,
   "metadata": {},
   "outputs": [],
   "source": [
    "def encode(z):\n",
    "    res = 0\n",
    "    for i in z:\n",
    "        res *= 2\n",
    "        res += i\n",
    "    return res\n",
    "\n",
    "data = {}\n",
    "for i in range(len(test_label)):\n",
    "    x = encode(test_data[i])\n",
    "    if x in data:\n",
    "        data[x]['count'] += 1\n",
    "        data[x]['label'] += test_label[i]\n",
    "    else:\n",
    "        data[x] = {'count': 1, 'label': test_label[i]}\n",
    "\n",
    "y_pred = []\n",
    "for z in test_data:\n",
    "    x = encode(z)\n",
    "    if x in data:\n",
    "        y_pred.append(data[x]['label'] / data[x]['count'])\n",
    "    else:\n",
    "        y_pred.append(0)\n",
    "y_pred = np.array(y_pred)"
   ]
  },
  {
   "cell_type": "code",
   "execution_count": 63,
   "metadata": {},
   "outputs": [
    {
     "data": {
      "image/png": "[encoded data removed]",
      "text/plain": [
       "<Figure size 720x576 with 1 Axes>"
      ]
     },
     "metadata": {},
     "output_type": "display_data"
    }
   ],
   "source": [
    "plt.figure(figsize = (10,8))\n",
    "plt.clf()\n",
    "r,p = get_pr(y_test_ann,test_label,precision_recall)\n",
    "plt.plot(r,p, label='ANN', linewidth=2, color = 'blue')\n",
    "r,p = get_pr(y_test_cnn,test_label,precision_recall)\n",
    "plt.plot(r,p, label='CNN', linewidth=2, color = 'green')\n",
    "r,p = get_pr(y_test_lstm,test_label,precision_recall)\n",
    "plt.plot(r,p, label='LSTM', linewidth=2, color = 'cyan')\n",
    "r,p = get_pr(y_test_lstm_att,test_label,precision_recall)\n",
    "plt.plot(r,p, label='LSTM with Attention', linewidth=2, color = 'red')\n",
    "f = open('upperbound_recall','rb')\n",
    "r = pickle.load(f)\n",
    "f.close()\n",
    "f = open('upperbound_precision','rb')\n",
    "p = pickle.load(f)\n",
    "f.close()\n",
    "plt.plot(r,p, '--', label='Upper Bound', linewidth=2, color = 'black')\n",
    "plt.plot(recall_lower_bound,precision_lower_bound,'-.',label = 'Lower Bound',linewidth=2, color = 'black')\n",
    "plt.xlabel('Recall')\n",
    "plt.ylabel('Precision')\n",
    "plt.ylim([0.0, 1.05])\n",
    "plt.xlim([0.0, 1.0])\n",
    "plt.title('P-R Curve of NN-based Methods')\n",
    "plt.legend(prop = {'size': 10})\n",
    "plt.savefig('P-R Curve NN(HMM).jpg')"
   ]
  },
  {
   "cell_type": "code",
   "execution_count": 60,
   "metadata": {},
   "outputs": [],
   "source": [
    "# import pickle\n",
    "# filename = [\"train_data\", \"train_label\", \"test_data\", \"test_label\"]\n",
    "# file = [train_data, train_label, test_data, test_label]\n",
    "# for f,d in zip(filename,file):\n",
    "# #     pass\n",
    "#     save = open(f,'wb')\n",
    "#     pickle.dump(d.cpu().numpy(),save)"
   ]
  },
  {
   "cell_type": "code",
   "execution_count": 62,
   "metadata": {},
   "outputs": [],
   "source": [
    "pickle.dump(y_test_ann,open('y_test_ann','wb'))\n",
    "pickle.dump(y_test_cnn,open('y_test_cnn','wb'))\n",
    "pickle.dump(y_test_lstm,open('y_test_lstm','wb'))\n",
    "pickle.dump(y_test_lstm_att,open('y_test_lstm_att','wb'))"
   ]
  },
  {
   "cell_type": "code",
   "execution_count": null,
   "metadata": {},
   "outputs": [],
   "source": []
  }
 ],
 "metadata": {
  "kernelspec": {
   "display_name": "Python 3",
   "language": "python",
   "name": "python3"
  },
  "language_info": {
   "codemirror_mode": {
    "name": "ipython",
    "version": 3
   },
   "file_extension": ".py",
   "mimetype": "text/x-python",
   "name": "python",
   "nbconvert_exporter": "python",
   "pygments_lexer": "ipython3",
   "version": "3.6.4"
  }
 },
 "nbformat": 4,
 "nbformat_minor": 2
}
