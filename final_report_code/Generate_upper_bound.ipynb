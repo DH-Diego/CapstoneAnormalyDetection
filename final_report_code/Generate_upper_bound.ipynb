{
 "cells": [
  {
   "cell_type": "code",
   "execution_count": 1,
   "metadata": {},
   "outputs": [],
   "source": [
    "import sys\n",
    "sys.path.append('../data_generated_library')\n",
    "import numpy as np\n",
    "import pandas as pd\n",
    "from sklearn.model_selection import train_test_split\n",
    "import credit_card_data\n",
    "\n",
    "import torch.nn as nn\n",
    "import torch\n",
    "import torch.nn.functional as F\n",
    "# from torch.utils.tensorboard import SummaryWriter\n",
    "import matplotlib.pyplot as plt\n",
    "import pickle\n",
    "from tqdm import tqdm"
   ]
  },
  {
   "cell_type": "code",
   "execution_count": 2,
   "metadata": {},
   "outputs": [],
   "source": [
    "train_data = pickle.load(open(\"../data_2/train_data\", \"rb\"))\n",
    "train_label = pickle.load(open(\"../data_2/train_label\", \"rb\"))"
   ]
  },
  {
   "cell_type": "code",
   "execution_count": 3,
   "metadata": {},
   "outputs": [],
   "source": [
    "test_data = pickle.load(open(\"../data_2/test_data\", \"rb\"))\n",
    "test_label = pickle.load(open(\"../data_2/test_label\", \"rb\"))"
   ]
  },
  {
   "cell_type": "code",
   "execution_count": 4,
   "metadata": {},
   "outputs": [],
   "source": [
    "all_data = np.concatenate([train_data,test_data],axis = 0)\n",
    "all_label = np.concatenate([train_label,test_label],axis = 0)"
   ]
  },
  {
   "cell_type": "code",
   "execution_count": 5,
   "metadata": {},
   "outputs": [],
   "source": [
    "def encode(z):\n",
    "    res = 0\n",
    "    for i in z:\n",
    "        res *= 2\n",
    "        res += i\n",
    "    return res\n",
    "\n",
    "data = {}\n",
    "for i in range(len(all_label)):\n",
    "    x = encode(all_data[i])\n",
    "    if x in data:\n",
    "        data[x]['count'] += 1\n",
    "        data[x]['label'] += all_label[i]\n",
    "    else:\n",
    "        data[x] = {'count': 1, 'label': all_label[i]}\n",
    "\n",
    "y_pred = []\n",
    "for z in test_data:\n",
    "    x = encode(z)\n",
    "    if x in data:\n",
    "        y_pred.append(data[x]['label'] / data[x]['count'])\n",
    "    else:\n",
    "        y_pred.append(0)\n",
    "y_pred = np.array(y_pred)"
   ]
  },
  {
   "cell_type": "code",
   "execution_count": 6,
   "metadata": {},
   "outputs": [
    {
     "data": {
      "text/plain": [
       "2636"
      ]
     },
     "execution_count": 6,
     "metadata": {},
     "output_type": "execute_result"
    }
   ],
   "source": [
    "cnt = 0\n",
    "for k, v in data.items():\n",
    "    if v['count'] == 1:\n",
    "        cnt += 1\n",
    "cnt"
   ]
  },
  {
   "cell_type": "code",
   "execution_count": 7,
   "metadata": {},
   "outputs": [],
   "source": [
    "def criteria(pred, label, threshold):\n",
    "    recall = []\n",
    "    precision = []\n",
    "    TP = 0\n",
    "    TN = 0\n",
    "    FP = 0\n",
    "    FN = 0\n",
    "    TP += ((pred > threshold).flatten()&(label == 1)).sum()\n",
    "    TN += ((pred < threshold).flatten()&(label == 0)).sum()\n",
    "    FP += ((pred > threshold).flatten()&(label == 0)).sum()\n",
    "    FN += ((pred < threshold).flatten()&(label == 1)).sum()\n",
    "    return TP, TN, FP, FN\n",
    "\n",
    "def plot(pred, label, func):\n",
    "    xs = []\n",
    "    ys = []\n",
    "    steps = 1000\n",
    "    l, r = pred.min(), pred.max()\n",
    "    for i in range(steps):\n",
    "        t = l + (r - l) * i / steps\n",
    "        x, y = func(pred, label, t)\n",
    "        xs.append(x)\n",
    "        ys.append(y)\n",
    "    plt.plot(xs, ys)\n",
    "    plt.xlim(0,1)\n",
    "    plt.ylim(0,1)\n",
    "\n",
    "def get_pr(pred, label, func):\n",
    "    xs = []\n",
    "    ys = []\n",
    "    steps = 1000\n",
    "    l, r = pred.min(), pred.max()\n",
    "    for i in range(steps):\n",
    "        t = l + (r - l) * i / steps\n",
    "        x, y = func(pred, label, t)\n",
    "        xs.append(x)\n",
    "        ys.append(y)\n",
    "    return xs, ys"
   ]
  },
  {
   "cell_type": "code",
   "execution_count": 8,
   "metadata": {},
   "outputs": [],
   "source": [
    "def precision_recall(pred, label, threshold):\n",
    "    TP, TN, FP, FN = criteria(pred, label, threshold)\n",
    "    recall = TP / (TP + FN)\n",
    "    precision = TP / (TP + FP)\n",
    "    return recall, precision\n",
    "\n",
    "def precision_recall_plot(pred, label):\n",
    "    plot(pred, label, precision_recall)"
   ]
  },
  {
   "cell_type": "code",
   "execution_count": 9,
   "metadata": {},
   "outputs": [
    {
     "data": {
      "text/plain": [
       "(0.9253012048192771, 0.9552238805970149)"
      ]
     },
     "execution_count": 9,
     "metadata": {},
     "output_type": "execute_result"
    }
   ],
   "source": [
    "test_label = np.array(test_label)\n",
    "precision_recall(y_pred, test_label, 0.5)"
   ]
  },
  {
   "cell_type": "code",
   "execution_count": 10,
   "metadata": {},
   "outputs": [
    {
     "data": {
      "text/plain": [
       "2984"
      ]
     },
     "execution_count": 10,
     "metadata": {},
     "output_type": "execute_result"
    }
   ],
   "source": [
    "len(data)"
   ]
  },
  {
   "cell_type": "code",
   "execution_count": 11,
   "metadata": {},
   "outputs": [
    {
     "data": {
      "image/png": "[encoded data removed]",
      "text/plain": [
       "<Figure size 432x288 with 1 Axes>"
      ]
     },
     "metadata": {},
     "output_type": "display_data"
    }
   ],
   "source": [
    "precision_recall_plot(y_pred, test_label)\n",
    "plt.show()"
   ]
  },
  {
   "cell_type": "code",
   "execution_count": 12,
   "metadata": {},
   "outputs": [],
   "source": [
    "r,p = get_pr(y_pred,test_label,precision_recall)"
   ]
  },
  {
   "cell_type": "code",
   "execution_count": 13,
   "metadata": {},
   "outputs": [],
   "source": [
    "import pickle\n",
    "f= open('upperbound_recall_2','wb')\n",
    "pickle.dump(r,f)\n",
    "f.close()\n",
    "f= open('upperbound_precision_2','wb')\n",
    "pickle.dump(p,f)\n",
    "f.close()"
   ]
  },
  {
   "cell_type": "code",
   "execution_count": null,
   "metadata": {
    "collapsed": true
   },
   "outputs": [],
   "source": []
  }
 ],
 "metadata": {
  "kernelspec": {
   "display_name": "Python 3",
   "language": "python",
   "name": "python3"
  },
  "language_info": {
   "codemirror_mode": {
    "name": "ipython",
    "version": 3
   },
   "file_extension": ".py",
   "mimetype": "text/x-python",
   "name": "python",
   "nbconvert_exporter": "python",
   "pygments_lexer": "ipython3",
   "version": "3.6.4"
  }
 },
 "nbformat": 4,
 "nbformat_minor": 2
}
