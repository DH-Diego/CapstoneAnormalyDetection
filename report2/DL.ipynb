{
 "cells": [
  {
   "cell_type": "code",
   "execution_count": 10,
   "metadata": {},
   "outputs": [],
   "source": [
    "import sys\n",
    "sys.path.append('./data_generated_library')\n",
    "import numpy as np\n",
    "import pandas as pd\n",
    "from sklearn.model_selection import train_test_split\n",
    "import credit_card_data\n",
    "\n",
    "import torch.nn as nn\n",
    "import torch\n",
    "import torch.nn.functional as F\n",
    "# from torch.utils.tensorboard import SummaryWriter\n",
    "import matplotlib.pyplot as plt"
   ]
  },
  {
   "cell_type": "markdown",
   "metadata": {},
   "source": [
    "## data generation"
   ]
  },
  {
   "cell_type": "code",
   "execution_count": 11,
   "metadata": {
    "collapsed": true
   },
   "outputs": [],
   "source": [
    "device = torch.device(\"cuda:0\" if torch.cuda.is_available() else \"cpu\")"
   ]
  },
  {
   "cell_type": "code",
   "execution_count": 12,
   "metadata": {
    "collapsed": true
   },
   "outputs": [],
   "source": [
    "window_size = 30\n",
    "\n",
    "Z,Y = credit_card_data.generate_raw_data(60, 10000)\n",
    "train_data, train_label, test_data, test_label = credit_card_data.generate_win_data(Z, Y, window_size, 3)\n",
    "train_data = torch.tensor(train_data, dtype=torch.float, device=device)\n",
    "train_label = torch.tensor(train_label, dtype=torch.float, device=device)\n",
    "test_data = torch.tensor(test_data, dtype=torch.float, device=device)\n",
    "test_label = torch.tensor(test_label, dtype=torch.float)"
   ]
  },
  {
   "cell_type": "code",
   "execution_count": 13,
   "metadata": {},
   "outputs": [
    {
     "name": "stdout",
     "output_type": "stream",
     "text": [
      "torch.Size([17842])\n",
      "tensor(3021., device='cuda:0')\n"
     ]
    }
   ],
   "source": [
    "print(train_label.size())\n",
    "print(train_label.sum())"
   ]
  },
  {
   "cell_type": "markdown",
   "metadata": {},
   "source": [
    "## ANN"
   ]
  },
  {
   "cell_type": "code",
   "execution_count": 14,
   "metadata": {
    "collapsed": true
   },
   "outputs": [],
   "source": [
    "class ANN(nn.Module):\n",
    "    def __init__(self, input_dim, output_dim):\n",
    "        super(ANN, self).__init__()\n",
    "        hidden_dim = input_dim // 2\n",
    "        self.linear1 = nn.Linear(input_dim, hidden_dim)\n",
    "        self.linear2 = nn.Linear(hidden_dim, output_dim)\n",
    "    \n",
    "    def forward(self, input_data):\n",
    "        l1 = self.linear1(input_data)\n",
    "        l2 = self.linear2(l1)\n",
    "        y_pred = nn.Sigmoid()(l2)\n",
    "        return y_pred"
   ]
  },
  {
   "cell_type": "code",
   "execution_count": 15,
   "metadata": {},
   "outputs": [
    {
     "name": "stderr",
     "output_type": "stream",
     "text": [
      "C:\\Users\\Administrator\\Anaconda3\\lib\\site-packages\\torch\\nn\\_reduction.py:49: UserWarning: size_average and reduce args will be deprecated, please use reduction='sum' instead.\n",
      "  warnings.warn(warning.format(ret))\n"
     ]
    }
   ],
   "source": [
    "ann_model = ANN(input_dim=window_size, output_dim=1)\n",
    "ann_model.to(device)\n",
    "\n",
    "learning_rate = 0.01\n",
    "loss_fn = torch.nn.BCELoss(size_average=False)\n",
    "optimiser = torch.optim.Adam(ann_model.parameters(), lr=learning_rate)"
   ]
  },
  {
   "cell_type": "code",
   "execution_count": 17,
   "metadata": {},
   "outputs": [
    {
     "name": "stderr",
     "output_type": "stream",
     "text": [
      "C:\\Users\\Administrator\\Anaconda3\\lib\\site-packages\\torch\\nn\\functional.py:2016: UserWarning: Using a target size (torch.Size([128])) that is different to the input size (torch.Size([128, 1])) is deprecated. Please ensure they have the same size.\n",
      "  \"Please ensure they have the same size.\".format(target.size(), input.size()))\n"
     ]
    },
    {
     "name": "stdout",
     "output_type": "stream",
     "text": [
      "epoch 0: 1.0733692646026611\n",
      "epoch 1: 1.0622234344482422\n",
      "epoch 2: 1.0616931915283203\n",
      "epoch 3: 1.060125708580017\n",
      "epoch 4: 1.0601143836975098\n",
      "epoch 5: 1.059453010559082\n",
      "epoch 6: 1.0599565505981445\n",
      "epoch 7: 1.0602545738220215\n",
      "epoch 8: 1.0588845014572144\n",
      "epoch 9: 1.0587363243103027\n"
     ]
    }
   ],
   "source": [
    "num_epochs = 10\n",
    "batch_size = 128\n",
    "\n",
    "#ann_writer = SummaryWriter()\n",
    "for t in range(num_epochs):\n",
    "    # shuffle data\n",
    "    idx = np.random.permutation(len(train_data))\n",
    "    train_data = train_data[idx]\n",
    "    train_label = train_label[idx]\n",
    "    total_loss = 0\n",
    "    for i in range(len(train_data)//batch_size):\n",
    "        optimiser.zero_grad()\n",
    "        batch_data = train_data[i*batch_size:(i+1)*batch_size]\n",
    "        batch_label = train_label[i*batch_size:(i+1)*batch_size]\n",
    "        y_pred = ann_model(batch_data)\n",
    "        weight = 4 * (batch_label == 1).float() + torch.ones(batch_size, device=device)\n",
    "        loss = torch.nn.BCELoss(weight=weight)(y_pred, batch_label)\n",
    "        #ann_writer.add_scalar('ANN loss', loss, t * len(train_data)//batch_size +i)\n",
    "        total_loss += loss\n",
    "        loss.backward()\n",
    "        optimiser.step()\n",
    "    print(\"epoch {:d}: {}\".format(t, total_loss/(len(train_data)//batch_size)))"
   ]
  },
  {
   "cell_type": "markdown",
   "metadata": {},
   "source": [
    "## LSTM"
   ]
  },
  {
   "cell_type": "code",
   "execution_count": 277,
   "metadata": {},
   "outputs": [],
   "source": [
    "class LSTM(nn.Module):\n",
    "    def __init__(self, output_dim, bidirectional=False):\n",
    "        super(LSTM, self).__init__()\n",
    "        self.input_dim = 1\n",
    "        self.hidden_dim = 3\n",
    "        self.num_layers = 2\n",
    "        self.lstm = nn.LSTM(self.input_dim, self.hidden_dim, self.num_layers, bidirectional=bidirectional)\n",
    "        self.linear = nn.Linear((bidirectional+1)*self.hidden_dim, output_dim)\n",
    "    \n",
    "    def forward(self, input_data):\n",
    "        lstm_out, hidden = self.lstm(input_data.view(input_data.size()[0], input_data.size()[1], -1))\n",
    "        linear = self.linear(lstm_out[-1])\n",
    "        y_pred = nn.Sigmoid()(linear)\n",
    "        return y_pred"
   ]
  },
  {
   "cell_type": "code",
   "execution_count": 278,
   "metadata": {
    "scrolled": true
   },
   "outputs": [
    {
     "name": "stderr",
     "output_type": "stream",
     "text": [
      "C:\\Users\\Administrator\\Anaconda3\\lib\\site-packages\\torch\\nn\\_reduction.py:49: UserWarning: size_average and reduce args will be deprecated, please use reduction='sum' instead.\n",
      "  warnings.warn(warning.format(ret))\n"
     ]
    }
   ],
   "source": [
    "lstm_model = LSTM(output_dim=1)\n",
    "lstm_model.to(device)\n",
    "\n",
    "learning_rate = 0.01\n",
    "loss_fn = torch.nn.BCELoss(size_average=False)\n",
    "optimiser = torch.optim.Adam(lstm_model.parameters(), lr=learning_rate)"
   ]
  },
  {
   "cell_type": "code",
   "execution_count": 279,
   "metadata": {},
   "outputs": [
    {
     "name": "stderr",
     "output_type": "stream",
     "text": [
      "C:\\Users\\Administrator\\Anaconda3\\lib\\site-packages\\torch\\nn\\functional.py:2016: UserWarning: Using a target size (torch.Size([128])) that is different to the input size (torch.Size([128, 1])) is deprecated. Please ensure they have the same size.\n",
      "  \"Please ensure they have the same size.\".format(target.size(), input.size()))\n"
     ]
    },
    {
     "name": "stdout",
     "output_type": "stream",
     "text": [
      "epoch 0: 1.0763764381408691\n",
      "epoch 1: 1.0492150783538818\n",
      "epoch 2: 1.0481438636779785\n",
      "epoch 3: 1.0471961498260498\n",
      "epoch 4: 1.046142578125\n",
      "epoch 5: 1.0474337339401245\n",
      "epoch 6: 1.0469977855682373\n",
      "epoch 7: 1.0477420091629028\n",
      "epoch 8: 1.0463676452636719\n",
      "epoch 9: 1.0465428829193115\n"
     ]
    }
   ],
   "source": [
    "num_epochs = 10\n",
    "batch_size = 128\n",
    "\n",
    "#lstm_writer = SummaryWriter()\n",
    "for t in range(num_epochs):\n",
    "    # shuffle data\n",
    "    idx = np.random.permutation(len(train_data))\n",
    "    train_data = train_data[idx]\n",
    "    train_label = train_label[idx]\n",
    "    total_loss = 0\n",
    "    for i in range(len(train_data)//batch_size):\n",
    "        optimiser.zero_grad()\n",
    "        batch_data = train_data[i*batch_size:(i+1)*batch_size].permute(1,0)\n",
    "        batch_label = train_label[i*batch_size:(i+1)*batch_size]\n",
    "        y_pred = lstm_model(batch_data)\n",
    "        weight = 4 * (batch_label == 1).float() + torch.ones(batch_size, device=device)\n",
    "        loss = torch.nn.BCELoss(weight=weight)(y_pred, batch_label)\n",
    "        #lstm_writer.add_scalar('LSTM loss', loss, t * len(train_data)//batch_size +i)\n",
    "        total_loss += loss\n",
    "        loss.backward()\n",
    "        optimiser.step()\n",
    "    print(\"epoch {:d}: {}\".format(t, total_loss/(len(train_data)//batch_size)))"
   ]
  },
  {
   "cell_type": "markdown",
   "metadata": {},
   "source": [
    "## CNN"
   ]
  },
  {
   "cell_type": "code",
   "execution_count": 21,
   "metadata": {
    "collapsed": true
   },
   "outputs": [],
   "source": [
    "class CNN(nn.Module):\n",
    "    def __init__(self, input_dim, output_dim):\n",
    "        super(CNN, self).__init__()\n",
    "        kernel_size = 3\n",
    "        self.input_dim = input_dim\n",
    "        self.conv1 = torch.nn.Conv1d(in_channels=1, out_channels=3, kernel_size=kernel_size)\n",
    "        self.conv2 = torch.nn.Conv1d(in_channels=3, out_channels=3, kernel_size=kernel_size)\n",
    "        self.linear1 = nn.Linear((input_dim-2*(kernel_size-1))*3, 10)\n",
    "        self.linear2 = nn.Linear(10, output_dim)\n",
    "        self.sigmoid = nn.Sigmoid()\n",
    "    \n",
    "    def forward(self, input_data):\n",
    "        conv_out1 = self.conv1(input_data.view(input_data.size()[0], 1, input_data.size()[1]))\n",
    "        conv_out1 = nn.ReLU()(conv_out1)\n",
    "        conv_out2 = self.conv2(conv_out1)\n",
    "        conv_out2 = nn.ReLU()(conv_out2)\n",
    "        linear1 = self.linear1(conv_out2.view(conv_out2.size()[0], -1))\n",
    "        linear1 = nn.ReLU()(linear1)\n",
    "        linear2 = self.linear2(linear1)\n",
    "        y_pred = self.sigmoid(linear2)\n",
    "        return y_pred"
   ]
  },
  {
   "cell_type": "code",
   "execution_count": 22,
   "metadata": {},
   "outputs": [
    {
     "name": "stderr",
     "output_type": "stream",
     "text": [
      "C:\\Users\\Administrator\\Anaconda3\\lib\\site-packages\\torch\\nn\\_reduction.py:49: UserWarning: size_average and reduce args will be deprecated, please use reduction='sum' instead.\n",
      "  warnings.warn(warning.format(ret))\n"
     ]
    }
   ],
   "source": [
    "cnn_model = CNN(input_dim=window_size, output_dim=1)\n",
    "cnn_model.to(device)\n",
    "\n",
    "learning_rate = 0.01\n",
    "loss_fn = torch.nn.BCELoss(size_average=False)\n",
    "optimiser = torch.optim.Adam(cnn_model.parameters(), lr=learning_rate)"
   ]
  },
  {
   "cell_type": "code",
   "execution_count": 23,
   "metadata": {},
   "outputs": [
    {
     "name": "stderr",
     "output_type": "stream",
     "text": [
      "C:\\Users\\Administrator\\Anaconda3\\lib\\site-packages\\torch\\nn\\functional.py:2016: UserWarning: Using a target size (torch.Size([128])) that is different to the input size (torch.Size([128, 1])) is deprecated. Please ensure they have the same size.\n",
      "  \"Please ensure they have the same size.\".format(target.size(), input.size()))\n"
     ]
    },
    {
     "name": "stdout",
     "output_type": "stream",
     "text": [
      "epoch 0: 1.1315727233886719\n",
      "epoch 1: 1.0769551992416382\n",
      "epoch 2: 1.0594671964645386\n",
      "epoch 3: 1.0613855123519897\n",
      "epoch 4: 1.0540087223052979\n",
      "epoch 5: 1.0524218082427979\n",
      "epoch 6: 1.0521076917648315\n",
      "epoch 7: 1.0519952774047852\n",
      "epoch 8: 1.0538777112960815\n",
      "epoch 9: 1.0493279695510864\n"
     ]
    }
   ],
   "source": [
    "num_epochs = 10\n",
    "batch_size = 128\n",
    "\n",
    "#cnn_writer = SummaryWriter()\n",
    "for t in range(num_epochs):\n",
    "    # shuffle data\n",
    "    idx = np.random.permutation(len(train_data))\n",
    "    train_data = train_data[idx]\n",
    "    train_label = train_label[idx]\n",
    "    total_loss = 0\n",
    "    for i in range(len(train_data)//batch_size):\n",
    "        optimiser.zero_grad()\n",
    "        batch_data = train_data[i*batch_size:(i+1)*batch_size]\n",
    "        batch_label = train_label[i*batch_size:(i+1)*batch_size]\n",
    "        y_pred = cnn_model(batch_data)\n",
    "        weight = 4 * (batch_label == 1).float() + torch.ones(batch_size, device=device)\n",
    "        loss = torch.nn.BCELoss(weight=weight)(y_pred, batch_label)\n",
    "        #cnn_writer.add_scalar('CNN loss', loss, t * len(train_data)//batch_size +i)\n",
    "        total_loss += loss\n",
    "        loss.backward()\n",
    "        optimiser.step()\n",
    "    print(\"epoch {:d}: {}\".format(t, total_loss/(len(train_data)//batch_size)))"
   ]
  },
  {
   "cell_type": "markdown",
   "metadata": {},
   "source": [
    "## LSTM + Attention"
   ]
  },
  {
   "cell_type": "code",
   "execution_count": 280,
   "metadata": {},
   "outputs": [],
   "source": [
    "## Attention Layer\n",
    "class Attention(nn.Module):\n",
    "    def __init__(self, feature_dim, step_dim, bias=True, **kwargs):\n",
    "        super(Attention, self).__init__(**kwargs)\n",
    "        \n",
    "        self.supports_masking = True\n",
    "\n",
    "        self.bias = bias\n",
    "        self.feature_dim = feature_dim\n",
    "        self.step_dim = step_dim\n",
    "        self.features_dim = 0\n",
    "        \n",
    "        weight = torch.zeros(feature_dim, 1)\n",
    "        nn.init.kaiming_uniform_(weight)\n",
    "        self.weight = nn.Parameter(weight)\n",
    "        \n",
    "        if bias:\n",
    "            self.b = nn.Parameter(torch.zeros(step_dim))\n",
    "        \n",
    "    def forward(self, x, mask=None):\n",
    "        feature_dim = self.feature_dim \n",
    "        step_dim = self.step_dim\n",
    "\n",
    "        eij = torch.mm(\n",
    "            x.contiguous().view(-1, feature_dim), \n",
    "            self.weight\n",
    "        ).view(-1, step_dim)\n",
    "        \n",
    "        if self.bias:\n",
    "            eij = eij + self.b\n",
    "            \n",
    "        eij = torch.tanh(eij)\n",
    "        a = torch.exp(eij)\n",
    "        \n",
    "        if mask is not None:\n",
    "            a = a * mask\n",
    "\n",
    "        a = a / (torch.sum(a, 1, keepdim=True) + 1e-10)\n",
    "        #print(a)\n",
    "        weighted_input = x * torch.unsqueeze(a, -1)\n",
    "        return torch.sum(weighted_input, 1)"
   ]
  },
  {
   "cell_type": "code",
   "execution_count": 281,
   "metadata": {
    "collapsed": true
   },
   "outputs": [],
   "source": [
    "class LSTM_ATT(nn.Module):\n",
    "    def __init__(self, batch_size, seq_len, att_dim, output_dim=3):\n",
    "        super(LSTM_ATT, self).__init__()\n",
    "        self.input_dim = 1\n",
    "        self.hidden_dim = 4\n",
    "        self.batch_size = batch_size\n",
    "        self.num_layers = 2\n",
    "        self.seq_len = seq_len\n",
    "        self.att_dim = att_dim\n",
    "        self.lstm = nn.LSTM(self.input_dim, self.hidden_dim, self.num_layers)\n",
    "        self.att = Attention(self.att_dim,2)\n",
    "        self.linear_2 = nn.Linear(self.att_dim, output_dim)\n",
    "        self.sigmoid = nn.Sigmoid()\n",
    "    \n",
    "    def forward(self, input):\n",
    "        lstm_out, hidden = self.lstm(input.view(input.size()[0],input.size()[1],-1))#;print(lstm_out.size())\n",
    "        att_out = self.att(lstm_out[-2:].permute(1,0,2))#;print(att_out.size())\n",
    "        output_2 = self.linear_2(att_out)#;print(output_2.size())\n",
    "        y_pred_2 = self.sigmoid(output_2)\n",
    "        return y_pred_2"
   ]
  },
  {
   "cell_type": "code",
   "execution_count": 287,
   "metadata": {},
   "outputs": [
    {
     "name": "stderr",
     "output_type": "stream",
     "text": [
      "C:\\Users\\Administrator\\Anaconda3\\lib\\site-packages\\torch\\nn\\_reduction.py:49: UserWarning: size_average and reduce args will be deprecated, please use reduction='sum' instead.\n",
      "  warnings.warn(warning.format(ret))\n"
     ]
    }
   ],
   "source": [
    "att_dim = 4\n",
    "output_dim = 1\n",
    "lstm_att_model = LSTM_ATT(\n",
    "    batch_size=batch_size, \n",
    "    seq_len = window_size,\n",
    "    att_dim = att_dim,\n",
    "    output_dim=output_dim\n",
    ")\n",
    "lstm_att_model.to(device)\n",
    "\n",
    "learning_rate = 0.002\n",
    "loss_fn = torch.nn.BCELoss(size_average=False)\n",
    "optimiser = torch.optim.Adam(lstm_att_model.parameters(), lr=learning_rate)"
   ]
  },
  {
   "cell_type": "code",
   "execution_count": 288,
   "metadata": {},
   "outputs": [
    {
     "name": "stderr",
     "output_type": "stream",
     "text": [
      "C:\\Users\\Administrator\\Anaconda3\\lib\\site-packages\\torch\\nn\\functional.py:2016: UserWarning: Using a target size (torch.Size([128])) that is different to the input size (torch.Size([128, 1])) is deprecated. Please ensure they have the same size.\n",
      "  \"Please ensure they have the same size.\".format(target.size(), input.size()))\n"
     ]
    },
    {
     "name": "stdout",
     "output_type": "stream",
     "text": [
      "epoch 0: 1.1532530784606934\n",
      "epoch 1: 1.094854712486267\n",
      "epoch 2: 1.0542969703674316\n",
      "epoch 3: 1.0502792596817017\n",
      "epoch 4: 1.049325704574585\n",
      "epoch 5: 1.0473493337631226\n",
      "epoch 6: 1.0471315383911133\n",
      "epoch 7: 1.0486257076263428\n",
      "epoch 8: 1.0471223592758179\n",
      "epoch 9: 1.0471783876419067\n"
     ]
    }
   ],
   "source": [
    "num_epochs = 10\n",
    "batch_size = 128\n",
    "\n",
    "#lstm_att_writer = SummaryWriter()\n",
    "for t in range(num_epochs):\n",
    "    # shuffle data\n",
    "    idx = np.random.permutation(len(train_data))\n",
    "    train_data = train_data[idx]\n",
    "    train_label = train_label[idx]\n",
    "    total_loss = 0\n",
    "    for i in range(len(train_data)//batch_size):\n",
    "        optimiser.zero_grad()\n",
    "        batch_data = train_data[i*batch_size:(i+1)*batch_size].permute(1,0)\n",
    "        batch_label = train_label[i*batch_size:(i+1)*batch_size]\n",
    "        y_pred = lstm_att_model(batch_data)\n",
    "        weight = 4 * (batch_label == 1).float() + torch.ones(batch_size, device=device)\n",
    "        loss = torch.nn.BCELoss(weight=weight)(y_pred, batch_label)\n",
    "        #lstm_att_writer.add_scalar('LSTM-ATT loss', loss, t * len(train_data)//batch_size +i)\n",
    "        total_loss += loss\n",
    "        loss.backward()\n",
    "        optimiser.step()\n",
    "    print(\"epoch {:d}: {}\".format(t, total_loss/(len(train_data)//batch_size)))"
   ]
  },
  {
   "cell_type": "markdown",
   "metadata": {},
   "source": [
    "## Measure"
   ]
  },
  {
   "cell_type": "code",
   "execution_count": 265,
   "metadata": {
    "collapsed": true
   },
   "outputs": [],
   "source": [
    "def criteria(pred, label, threshold):\n",
    "    recall = []\n",
    "    precision = []\n",
    "    TP = 0\n",
    "    TN = 0\n",
    "    FP = 0\n",
    "    FN = 0\n",
    "    TP += ((pred > threshold).numpy().flatten()&(label == 1).numpy()).sum()\n",
    "    TN += ((pred < threshold).numpy().flatten()&(label == 0).numpy()).sum()\n",
    "    FP += ((pred > threshold).numpy().flatten()&(label == 0).numpy()).sum()\n",
    "    FN += ((pred < threshold).numpy().flatten()&(label == 1).numpy()).sum()\n",
    "    return TP, TN, FP, FN\n",
    "\n",
    "def plot(pred, label, func, name):\n",
    "    xs = []\n",
    "    ys = []\n",
    "    steps = 1000\n",
    "    l, r = pred.min(), pred.max()\n",
    "    for i in range(steps):\n",
    "        t = l + (r - l) * i / steps\n",
    "        x, y = func(pred, label, t)\n",
    "        xs.append(x)\n",
    "        ys.append(y)\n",
    "    plt.plot(xs, ys,label = name)\n",
    "    plt.xlim(0,1)\n",
    "    plt.ylim(0,1)"
   ]
  },
  {
   "cell_type": "code",
   "execution_count": 266,
   "metadata": {
    "collapsed": true
   },
   "outputs": [],
   "source": [
    "def precision_recall(pred, label, threshold):\n",
    "    TP, TN, FP, FN = criteria(pred, label, threshold)\n",
    "    recall = TP / (TP + FN)\n",
    "    precision = TP / (TP + FP)\n",
    "    return recall, precision\n",
    "\n",
    "def precision_recall_plot(pred, label, name = None):\n",
    "    plot(pred, label, precision_recall, name)"
   ]
  },
  {
   "cell_type": "code",
   "execution_count": 267,
   "metadata": {
    "collapsed": true
   },
   "outputs": [],
   "source": [
    "def ROC(pred, label, threshold):\n",
    "    TP, TN, FP, FN = criteria(pred, label, threshold)\n",
    "    TPR = TP / (TP + FN)\n",
    "    FPR = FP / (FP + TN)\n",
    "    return FPR, TPR\n",
    "\n",
    "def ROC_plot(pred, label, name = None):\n",
    "    plot(pred, label, ROC, name)"
   ]
  },
  {
   "cell_type": "code",
   "execution_count": 268,
   "metadata": {
    "collapsed": true
   },
   "outputs": [],
   "source": [
    "y_test = lstm_model(test_data.permute(1,0)).cpu()"
   ]
  },
  {
   "cell_type": "code",
   "execution_count": 269,
   "metadata": {},
   "outputs": [
    {
     "name": "stdout",
     "output_type": "stream",
     "text": [
      "(0.5437665782493368, 0.36771300448430494)\n"
     ]
    },
    {
     "data": {
      "image/png": "[encoded data removed]",
      "text/plain": [
       "<matplotlib.figure.Figure at 0x237ce8e9668>"
      ]
     },
     "metadata": {},
     "output_type": "display_data"
    }
   ],
   "source": [
    "print(precision_recall(y_test, test_label, 0.5))\n",
    "precision_recall_plot(y_test, test_label)\n",
    "ROC_plot(y_test, test_label)\n",
    "plt.show()"
   ]
  },
  {
   "cell_type": "code",
   "execution_count": 270,
   "metadata": {},
   "outputs": [
    {
     "name": "stdout",
     "output_type": "stream",
     "text": [
      "(0.5278514588859416, 0.36988847583643125)\n"
     ]
    },
    {
     "data": {
      "image/png": "[encoded data removed]",
      "text/plain": [
       "<matplotlib.figure.Figure at 0x23841e4ea20>"
      ]
     },
     "metadata": {},
     "output_type": "display_data"
    }
   ],
   "source": [
    "y_test = cnn_model(test_data).cpu()\n",
    "print(precision_recall(y_test, test_label, 0.5))\n",
    "precision_recall_plot(y_test, test_label)\n",
    "ROC_plot(y_test, test_label)\n",
    "plt.show()"
   ]
  },
  {
   "cell_type": "code",
   "execution_count": 271,
   "metadata": {},
   "outputs": [
    {
     "name": "stdout",
     "output_type": "stream",
     "text": [
      "(0.506631299734748, 0.3886063072227874)\n"
     ]
    },
    {
     "data": {
      "image/png": "[encoded data removed]",
      "text/plain": [
       "<matplotlib.figure.Figure at 0x237ce8a4128>"
      ]
     },
     "metadata": {},
     "output_type": "display_data"
    }
   ],
   "source": [
    "y_test = ann_model(test_data).cpu()\n",
    "print(precision_recall(y_test, test_label, 0.5))\n",
    "precision_recall_plot(y_test, test_label)\n",
    "ROC_plot(y_test, test_label)\n",
    "plt.show()"
   ]
  },
  {
   "cell_type": "code",
   "execution_count": 272,
   "metadata": {
    "collapsed": true
   },
   "outputs": [],
   "source": [
    "y_test = lstm_att_model(test_data.permute(1,0)).cpu()"
   ]
  },
  {
   "cell_type": "code",
   "execution_count": 273,
   "metadata": {},
   "outputs": [
    {
     "name": "stdout",
     "output_type": "stream",
     "text": [
      "(0.5464190981432361, 0.3701707097933513)\n"
     ]
    },
    {
     "data": {
      "image/png": "[encoded data removed]",
      "text/plain": [
       "<matplotlib.figure.Figure at 0x237a34a6898>"
      ]
     },
     "metadata": {},
     "output_type": "display_data"
    }
   ],
   "source": [
    "print(precision_recall(y_test, test_label, 0.5))\n",
    "precision_recall_plot(y_test, test_label,'P-R curve')\n",
    "ROC_plot(y_test, test_label,'ROC curve')\n",
    "plt.xlabel('recall/FPR')\n",
    "plt.ylabel('precision/TPR')\n",
    "plt.legend()\n",
    "plt.show()"
   ]
  },
  {
   "cell_type": "code",
   "execution_count": 289,
   "metadata": {},
   "outputs": [],
   "source": [
    "y_test_lstm = lstm_model(test_data.permute(1,0)).cpu()\n",
    "y_test_cnn = cnn_model(test_data).cpu()\n",
    "y_test_ann = ann_model(test_data).cpu()\n",
    "y_test_lstm_att = lstm_att_model(test_data.permute(1,0)).cpu()\n"
   ]
  },
  {
   "cell_type": "code",
   "execution_count": 290,
   "metadata": {},
   "outputs": [
    {
     "data": {
      "image/png": "[encoded data removed]",
      "text/plain": [
       "<matplotlib.figure.Figure at 0x237e33715f8>"
      ]
     },
     "metadata": {},
     "output_type": "display_data"
    }
   ],
   "source": [
    "ROC_plot(y_test_lstm, test_label, name = 'lstm')\n",
    "ROC_plot(y_test_cnn, test_label, name = 'cnn')\n",
    "ROC_plot(y_test_ann, test_label, name = 'ann')\n",
    "ROC_plot(y_test_lstm_att, test_label, name = 'lstm_att')\n",
    "plt.legend()\n",
    "plt.title('ROC compare among models')\n",
    "plt.show()"
   ]
  },
  {
   "cell_type": "code",
   "execution_count": 291,
   "metadata": {
    "scrolled": true
   },
   "outputs": [
    {
     "data": {
      "image/png": "[encoded data removed]",
      "text/plain": [
       "<matplotlib.figure.Figure at 0x2382a967a58>"
      ]
     },
     "metadata": {},
     "output_type": "display_data"
    }
   ],
   "source": [
    "precision_recall_plot(y_test_lstm, test_label, name = 'lstm')\n",
    "precision_recall_plot(y_test_cnn, test_label, name = 'cnn')\n",
    "precision_recall_plot(y_test_ann, test_label, name = 'ann')\n",
    "precision_recall_plot(y_test_lstm_att, test_label, name = 'lstm_att')\n",
    "plt.legend()\n",
    "plt.title('P-R curve compare among models')\n",
    "plt.show()"
   ]
  },
  {
   "cell_type": "code",
   "execution_count": null,
   "metadata": {
    "collapsed": true
   },
   "outputs": [],
   "source": []
  }
 ],
 "metadata": {
  "kernelspec": {
   "display_name": "Python 3",
   "language": "python",
   "name": "python3"
  },
  "language_info": {
   "codemirror_mode": {
    "name": "ipython",
    "version": 3
   },
   "file_extension": ".py",
   "mimetype": "text/x-python",
   "name": "python",
   "nbconvert_exporter": "python",
   "pygments_lexer": "ipython3",
   "version": "3.6.2"
  }
 },
 "nbformat": 4,
 "nbformat_minor": 2
}
