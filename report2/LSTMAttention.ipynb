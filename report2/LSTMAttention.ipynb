{
 "cells": [
  {
   "cell_type": "code",
   "execution_count": 324,
   "metadata": {},
   "outputs": [],
   "source": [
    "import sys\n",
    "sys.path.append('./data_generated_library')\n",
    "import numpy as np\n",
    "import pandas as pd\n",
    "from sklearn.model_selection import train_test_split\n",
    "import credit_card_data\n",
    "\n",
    "import torch.nn as nn\n",
    "import torch\n",
    "import torch.nn.functional as F\n",
    "from torchsummary import summary\n",
    "\n",
    "import matplotlib.pyplot as plt\n",
    "\n",
    "from tqdm import tqdm\n",
    "from random import shuffle"
   ]
  },
  {
   "cell_type": "code",
   "execution_count": 8,
   "metadata": {},
   "outputs": [
    {
     "name": "stdout",
     "output_type": "stream",
     "text": [
      "cuda:0\n"
     ]
    }
   ],
   "source": [
    "device = torch.device(\"cuda:0\" if torch.cuda.is_available() else \"cpu\")\n",
    "print(device)"
   ]
  },
  {
   "cell_type": "code",
   "execution_count": 12,
   "metadata": {},
   "outputs": [],
   "source": [
    "window_size = 12\n",
    "\n",
    "Z,Y = credit_card_data.generate_raw_data(60, 10000)\n",
    "train_data, train_label, test_data, test_label = credit_card_data.generate_win_data(Z, Y, window_size,future = 3)\n",
    "train_data = torch.tensor(train_data, dtype=torch.float)\n",
    "train_label = torch.tensor(train_label, dtype=torch.float)\n",
    "test_data = torch.tensor(test_data, dtype=torch.float)\n",
    "test_label = torch.tensor(test_label, dtype=torch.float)"
   ]
  },
  {
   "cell_type": "code",
   "execution_count": 13,
   "metadata": {},
   "outputs": [
    {
     "name": "stdout",
     "output_type": "stream",
     "text": [
      "torch.Size([50928])\n",
      "tensor(9143.)\n"
     ]
    }
   ],
   "source": [
    "print(train_label.size())\n",
    "print(train_label.sum())"
   ]
  },
  {
   "cell_type": "code",
   "execution_count": 14,
   "metadata": {
    "collapsed": true
   },
   "outputs": [],
   "source": [
    "class CNN(nn.Module):\n",
    "    def __init__(self):\n",
    "        super(CNN, self).__init__()\n",
    "        self.batch_size = batch_size\n",
    "        self.cnn1 = nn.Sequential(\n",
    "            nn.Conv1d(\n",
    "                in_channels = 1,\n",
    "                out_channels = 5,\n",
    "                kernel_size = 3\n",
    "            )\n",
    "        )\n",
    "        self.cnn2 = nn.Sequential(\n",
    "            nn.Conv1d(\n",
    "                in_channels = 5,\n",
    "                out_channels = 5,\n",
    "                kernel_size = 3\n",
    "            )\n",
    "        )\n",
    "        self.cnn3 = nn.Sequential(\n",
    "            nn.Conv1d(\n",
    "                in_channels = 5,\n",
    "                out_channels = 5,\n",
    "                kernel_size = 3\n",
    "            ))\n",
    "        self.cnn4 = nn.Sequential(\n",
    "            nn.Conv1d(\n",
    "                in_channels = 5,\n",
    "                out_channels = 5,\n",
    "                kernel_size = 3\n",
    "            ))\n",
    "        self.linear = nn.Linear(5,1)\n",
    "        self.sigmoid = nn.Sigmoid()\n",
    "    \n",
    "    def forward(self, input):\n",
    "        x = self.cnn1(input);print(x.size())\n",
    "        x = self.cnn2(x);print(x.size())\n",
    "        x = self.cnn3(x);print(x.size())\n",
    "        x = self.cnn4(x);print(x.size())\n",
    "        x = torch.squeeze(x);print(x.size())\n",
    "        linear_out = self.linear(x)\n",
    "        y_pred = self.sigmoid(linear_out)\n",
    "        return y_pred"
   ]
  },
  {
   "cell_type": "code",
   "execution_count": 219,
   "metadata": {
    "collapsed": true
   },
   "outputs": [],
   "source": [
    "class Attention(nn.Module):\n",
    "    def __init__(self, feature_dim, step_dim, bias=True, **kwargs):\n",
    "        super(Attention, self).__init__(**kwargs)\n",
    "        \n",
    "        self.supports_masking = True\n",
    "\n",
    "        self.bias = bias\n",
    "        self.feature_dim = feature_dim\n",
    "        self.step_dim = step_dim\n",
    "        self.features_dim = 0\n",
    "        \n",
    "        weight = torch.zeros(feature_dim, 1)\n",
    "        nn.init.kaiming_uniform_(weight)\n",
    "        self.weight = nn.Parameter(weight)\n",
    "        \n",
    "        if bias:\n",
    "            self.b = nn.Parameter(torch.zeros(step_dim))\n",
    "        \n",
    "    def forward(self, x, mask=None):\n",
    "        feature_dim = self.feature_dim \n",
    "        step_dim = self.step_dim\n",
    "\n",
    "        eij = torch.mm(\n",
    "            x.contiguous().view(-1, feature_dim), \n",
    "            self.weight\n",
    "        ).view(-1, step_dim)\n",
    "        \n",
    "        if self.bias:\n",
    "            eij = eij + self.b\n",
    "            \n",
    "        eij = torch.tanh(eij)\n",
    "        a = torch.exp(eij)\n",
    "        \n",
    "        if mask is not None:\n",
    "            a = a * mask\n",
    "\n",
    "        a = a / (torch.sum(a, 1, keepdim=True) + 1e-10)\n",
    "        #print(a)\n",
    "        weighted_input = x * torch.unsqueeze(a, -1)\n",
    "        return torch.sum(weighted_input, 1)"
   ]
  },
  {
   "cell_type": "code",
   "execution_count": 220,
   "metadata": {
    "collapsed": true
   },
   "outputs": [],
   "source": [
    "class LSTM(nn.Module):\n",
    "    def __init__(self, batch_size, output_dim=3):\n",
    "        super(LSTM, self).__init__()\n",
    "        self.input_dim = 1\n",
    "        self.hidden_dim = 3\n",
    "        self.batch_size = batch_size\n",
    "        self.num_layers = 2\n",
    "        self.lstm = nn.LSTM(self.input_dim, self.hidden_dim, self.num_layers)\n",
    "        self.linear = nn.Linear(self.hidden_dim, output_dim)\n",
    "        self.sigmoid = nn.Sigmoid()\n",
    "    \n",
    "    def forward(self, input):\n",
    "        # (\"input size: \", input.size())\n",
    "        lstm_out, hidden = self.lstm(input.view(input.size()[0],input.size()[1],-1))\n",
    "        y_pred = self.linear(lstm_out[-1])\n",
    "        y_pred = self.sigmoid(y_pred)\n",
    "        return y_pred"
   ]
  },
  {
   "cell_type": "code",
   "execution_count": 313,
   "metadata": {},
   "outputs": [],
   "source": [
    "class LSTM_ATT(nn.Module):\n",
    "    def __init__(self, batch_size, seq_len, att_dim, output_dim=3,option = '1'):\n",
    "        super(LSTM_ATT, self).__init__()\n",
    "        self.input_dim = 1\n",
    "        self.hidden_dim = 4\n",
    "        self.batch_size = batch_size\n",
    "        self.num_layers = 2\n",
    "        self.seq_len = seq_len\n",
    "        self.att_dim = att_dim\n",
    "        self.lstm = nn.LSTM(self.input_dim, self.hidden_dim, self.num_layers)\n",
    "        self.att = Attention(self.att_dim,5)\n",
    "        self.linear_1 = nn.Linear(self.hidden_dim, output_dim)\n",
    "        self.linear_2 = nn.Linear(self.att_dim, output_dim)\n",
    "        self.linear_3 = nn.Linear(self.hidden_dim*self.seq_len,output_dim)\n",
    "        self.sigmoid = nn.Sigmoid()\n",
    "        self.option = option\n",
    "    \n",
    "    def forward(self, input):\n",
    "        #print(\"input size: \", input.size())\n",
    "        lstm_out, hidden = self.lstm(input.view(input.size()[0],input.size()[1],-1))#;print(lstm_out.size())\n",
    "        output_1 = self.linear_1(lstm_out[-1])#;print(output_1.size())\n",
    "        att_out = self.att(lstm_out[-5:].permute(1,0,2))#;print(att_out.size())\n",
    "        output_2 = self.linear_2(att_out)#;print(output_2.size())\n",
    "        output_3 = self.linear_3(lstm_out.view(input.size()[1],-1))\n",
    "        \n",
    "        y_pred_1 = self.sigmoid(output_1)\n",
    "        y_pred_2 = self.sigmoid(output_2)\n",
    "        y_pred_3 = self.sigmoid(output_3)\n",
    "        if self.option == '1':\n",
    "            y_pred = y_pred_1\n",
    "        elif self.option == '2':\n",
    "            y_pred = y_pred_2\n",
    "        elif self.option == '3':\n",
    "            y_pred = 0.5*y_pred_1 + 0.5*y_pred_2#;print(y_pred.size())\n",
    "        return y_pred"
   ]
  },
  {
   "cell_type": "code",
   "execution_count": 314,
   "metadata": {},
   "outputs": [
    {
     "data": {
      "text/plain": [
       "99"
      ]
     },
     "execution_count": 314,
     "metadata": {},
     "output_type": "execute_result"
    }
   ],
   "source": [
    "len(train_data)//batch_size"
   ]
  },
  {
   "cell_type": "code",
   "execution_count": 315,
   "metadata": {
    "collapsed": true
   },
   "outputs": [],
   "source": [
    "def criteria(y_test, test_label):\n",
    "    recall = []\n",
    "    precision = []\n",
    "    for t in range(10000):\n",
    "        TP = 0\n",
    "        TN = 0\n",
    "        FP = 0\n",
    "        FN = 0\n",
    "        threshold = t*0.0001\n",
    "        TP += ((y_test > threshold).numpy().flatten()&(test_label == 1).numpy()).sum()\n",
    "        TN += ((y_test < threshold).numpy().flatten()&(test_label == 0).numpy()).sum()\n",
    "        FP += ((y_test > threshold).numpy().flatten()&(test_label == 0).numpy()).sum()\n",
    "        FN += ((y_test < threshold).numpy().flatten()&(test_label == 1).numpy()).sum()\n",
    "        recall.append((TP) / (TP + FN))\n",
    "        precision.append((TP) / (TP + FP))\n",
    "    return recall, precision"
   ]
  },
  {
   "cell_type": "code",
   "execution_count": 326,
   "metadata": {},
   "outputs": [
    {
     "name": "stderr",
     "output_type": "stream",
     "text": [
      "C:\\Users\\Administrator\\Anaconda3\\lib\\site-packages\\torch\\nn\\_reduction.py:49: UserWarning: size_average and reduce args will be deprecated, please use reduction='sum' instead.\n",
      "  warnings.warn(warning.format(ret))\n"
     ]
    }
   ],
   "source": [
    "batch_size = 512\n",
    "num_epochs = 10\n",
    "\n",
    "lstm_input_size = window_size\n",
    "h1 = 4\n",
    "num_train = len(train_data)\n",
    "att_dim = 4\n",
    "output_dim = 1\n",
    "num_layers = 1\n",
    "# model = LSTM(batch_size=batch_size, output_dim=output_dim)\n",
    "# model.to(device)\n",
    "model = LSTM_ATT(batch_size=batch_size, \n",
    "                 seq_len = window_size,\n",
    "                 att_dim = att_dim,\n",
    "                 output_dim=output_dim,\n",
    "                 option = '1')\n",
    "model.to(device)\n",
    "\n",
    "learning_rate = 0.01\n",
    "loss_fn = torch.nn.BCELoss(size_average=False)\n",
    "optimizer = torch.optim.Adam(model.parameters(), lr=learning_rate)"
   ]
  },
  {
   "cell_type": "code",
   "execution_count": 327,
   "metadata": {},
   "outputs": [
    {
     "name": "stderr",
     "output_type": "stream",
     "text": [
      "C:\\Users\\Administrator\\Anaconda3\\lib\\site-packages\\torch\\nn\\functional.py:2016: UserWarning: Using a target size (torch.Size([512])) that is different to the input size (torch.Size([512, 1])) is deprecated. Please ensure they have the same size.\n",
      "  \"Please ensure they have the same size.\".format(target.size(), input.size()))\n"
     ]
    },
    {
     "name": "stdout",
     "output_type": "stream",
     "text": [
      "tensor(129.4973, device='cuda:0', grad_fn=<AddBackward0>)\n",
      "tensor(120.7170, device='cuda:0', grad_fn=<AddBackward0>)\n",
      "tensor(118.2525, device='cuda:0', grad_fn=<AddBackward0>)\n",
      "tensor(118.6396, device='cuda:0', grad_fn=<AddBackward0>)\n",
      "tensor(119.1107, device='cuda:0', grad_fn=<AddBackward0>)\n",
      "tensor(119.2611, device='cuda:0', grad_fn=<AddBackward0>)\n",
      "tensor(119.2171, device='cuda:0', grad_fn=<AddBackward0>)\n",
      "tensor(118.8967, device='cuda:0', grad_fn=<AddBackward0>)\n",
      "tensor(118.9988, device='cuda:0', grad_fn=<AddBackward0>)\n",
      "tensor(120.1176, device='cuda:0', grad_fn=<AddBackward0>)\n"
     ]
    }
   ],
   "source": [
    "for t in range(num_epochs):\n",
    "    train = np.concatenate([train_data,train_label.unsqueeze(1)],axis = 1)\n",
    "    shuffle(train)\n",
    "    train_data_ = torch.tensor(train[:,:window_size])\n",
    "    train_label_ = torch.tensor(train[:,window_size])\n",
    "    total_loss = 0\n",
    "    for i in range(len(train_data)//batch_size):\n",
    "        optimizer.zero_grad()\n",
    "        batch_data = train_data_[i*batch_size:(i+1)*batch_size].permute(1,0).cuda()\n",
    "        batch_label = train_label_[i*batch_size:(i+1)*batch_size].cuda()\n",
    "        y_pred = model(batch_data)\n",
    "        weight = 5 * (batch_label == 1).float() + torch.ones(batch_size, device=device)\n",
    "        loss = torch.nn.BCELoss(weight=weight)(y_pred, batch_label)\n",
    "        total_loss += loss\n",
    "        loss.backward()\n",
    "        optimizer.step()\n",
    "    print(total_loss)"
   ]
  },
  {
   "cell_type": "code",
   "execution_count": 328,
   "metadata": {
    "scrolled": true
   },
   "outputs": [
    {
     "name": "stderr",
     "output_type": "stream",
     "text": [
      "C:\\Users\\Administrator\\Anaconda3\\lib\\site-packages\\ipykernel_launcher.py:15: RuntimeWarning: invalid value encountered in longlong_scalars\n",
      "  from ipykernel import kernelapp as app\n"
     ]
    },
    {
     "data": {
      "image/png": "[encoded data removed]",
      "text/plain": [
       "<matplotlib.figure.Figure at 0x16de651cb70>"
      ]
     },
     "metadata": {},
     "output_type": "display_data"
    }
   ],
   "source": [
    "y_test = model(test_data.permute(1,0).cuda()).cpu()\n",
    "recall1, precision1 = criteria(y_test, test_label)\n",
    "plt.plot(recall1, precision1)\n",
    "plt.xlim(0,1)\n",
    "plt.ylim(0,1)\n",
    "plt.title('Last Step')\n",
    "plt.show()\n"
   ]
  },
  {
   "cell_type": "code",
   "execution_count": 329,
   "metadata": {},
   "outputs": [
    {
     "name": "stderr",
     "output_type": "stream",
     "text": [
      "C:\\Users\\Administrator\\Anaconda3\\lib\\site-packages\\torch\\nn\\_reduction.py:49: UserWarning: size_average and reduce args will be deprecated, please use reduction='sum' instead.\n",
      "  warnings.warn(warning.format(ret))\n",
      "C:\\Users\\Administrator\\Anaconda3\\lib\\site-packages\\torch\\nn\\functional.py:2016: UserWarning: Using a target size (torch.Size([512])) that is different to the input size (torch.Size([512, 1])) is deprecated. Please ensure they have the same size.\n",
      "  \"Please ensure they have the same size.\".format(target.size(), input.size()))\n",
      "C:\\Users\\Administrator\\Anaconda3\\lib\\site-packages\\ipykernel_launcher.py:15: RuntimeWarning: invalid value encountered in longlong_scalars\n",
      "  from ipykernel import kernelapp as app\n"
     ]
    },
    {
     "data": {
      "image/png": "[encoded data removed]",
      "text/plain": [
       "<matplotlib.figure.Figure at 0x16de6442c18>"
      ]
     },
     "metadata": {},
     "output_type": "display_data"
    }
   ],
   "source": [
    "batch_size = 512\n",
    "num_epochs = 3\n",
    "\n",
    "lstm_input_size = window_size\n",
    "h1 = 4\n",
    "num_train = len(train_data)\n",
    "att_dim = 4\n",
    "output_dim = 1\n",
    "num_layers = 1\n",
    "# model = LSTM(batch_size=batch_size, output_dim=output_dim)\n",
    "# model.to(device)\n",
    "model = LSTM_ATT(batch_size=batch_size, \n",
    "                 seq_len = window_size,\n",
    "                 att_dim = att_dim,\n",
    "                 output_dim=output_dim,\n",
    "                 option = '2')\n",
    "model.to(device)\n",
    "\n",
    "learning_rate = 0.01\n",
    "loss_fn = torch.nn.BCELoss(size_average=False)\n",
    "optimizer = torch.optim.Adam(model.parameters(), lr=learning_rate)\n",
    "for t in range(num_epochs):\n",
    "    train = np.concatenate([train_data,train_label.unsqueeze(1)],axis = 1)\n",
    "    shuffle(train)\n",
    "    train_data_ = torch.tensor(train[:,:window_size])\n",
    "    train_label_ = torch.tensor(train[:,window_size])\n",
    "    for i in range(len(train_data)//batch_size):\n",
    "        optimizer.zero_grad()\n",
    "        batch_data = train_data_[i*batch_size:(i+1)*batch_size].permute(1,0).cuda()\n",
    "        batch_label = train_label_[i*batch_size:(i+1)*batch_size].cuda()\n",
    "        y_pred = model(batch_data)\n",
    "        weight = 5 * (batch_label == 1).float() + torch.ones(batch_size, device=device)\n",
    "        loss = torch.nn.BCELoss(weight=weight)(y_pred, batch_label)\n",
    "        loss.backward()\n",
    "        optimizer.step()\n",
    "y_test = model(test_data.permute(1,0).cuda()).cpu()\n",
    "recall2, precision2 = criteria(y_test, test_label)\n",
    "plt.plot(recall2, precision2)\n",
    "plt.xlim(0,1)\n",
    "plt.ylim(0,1)\n",
    "plt.title('Last 3 Attention')\n",
    "plt.show()\n"
   ]
  },
  {
   "cell_type": "code",
   "execution_count": 330,
   "metadata": {},
   "outputs": [
    {
     "name": "stderr",
     "output_type": "stream",
     "text": [
      "C:\\Users\\Administrator\\Anaconda3\\lib\\site-packages\\torch\\nn\\_reduction.py:49: UserWarning: size_average and reduce args will be deprecated, please use reduction='sum' instead.\n",
      "  warnings.warn(warning.format(ret))\n",
      "C:\\Users\\Administrator\\Anaconda3\\lib\\site-packages\\torch\\nn\\functional.py:2016: UserWarning: Using a target size (torch.Size([512])) that is different to the input size (torch.Size([512, 1])) is deprecated. Please ensure they have the same size.\n",
      "  \"Please ensure they have the same size.\".format(target.size(), input.size()))\n",
      "C:\\Users\\Administrator\\Anaconda3\\lib\\site-packages\\ipykernel_launcher.py:15: RuntimeWarning: invalid value encountered in longlong_scalars\n",
      "  from ipykernel import kernelapp as app\n"
     ]
    },
    {
     "data": {
      "image/png": "[encoded data removed]",
      "text/plain": [
       "<matplotlib.figure.Figure at 0x16de6af92e8>"
      ]
     },
     "metadata": {},
     "output_type": "display_data"
    }
   ],
   "source": [
    "batch_size = 512\n",
    "num_epochs = 3\n",
    "\n",
    "lstm_input_size = window_size\n",
    "h1 = 4\n",
    "num_train = len(train_data)\n",
    "att_dim = 4\n",
    "output_dim = 1\n",
    "num_layers = 1\n",
    "# model = LSTM(batch_size=batch_size, output_dim=output_dim)\n",
    "# model.to(device)\n",
    "model = LSTM_ATT(batch_size=batch_size, \n",
    "                 seq_len = window_size,\n",
    "                 att_dim = att_dim,\n",
    "                 output_dim=output_dim,\n",
    "                 option = '3')\n",
    "model.to(device)\n",
    "\n",
    "learning_rate = 0.01\n",
    "loss_fn = torch.nn.BCELoss(size_average=False)\n",
    "optimizer = torch.optim.Adam(model.parameters(), lr=learning_rate)\n",
    "for t in range(num_epochs):\n",
    "    train = np.concatenate([train_data,train_label.unsqueeze(1)],axis = 1)\n",
    "    shuffle(train)\n",
    "    train_data_ = torch.tensor(train[:,:window_size])\n",
    "    train_label_ = torch.tensor(train[:,window_size])\n",
    "    for i in range(len(train_data)//batch_size):\n",
    "        optimizer.zero_grad()\n",
    "        batch_data = train_data_[i*batch_size:(i+1)*batch_size].permute(1,0).cuda()\n",
    "        batch_label = train_label_[i*batch_size:(i+1)*batch_size].cuda()\n",
    "        y_pred = model(batch_data)\n",
    "        weight = 5 * (batch_label == 1).float() + torch.ones(batch_size, device=device)\n",
    "        loss = torch.nn.BCELoss(weight=weight)(y_pred, batch_label)\n",
    "        loss.backward()\n",
    "        optimizer.step()\n",
    "y_test = model(test_data.permute(1,0).cuda()).cpu()\n",
    "recall3, precision3 = criteria(y_test, test_label)\n",
    "plt.plot(recall3, precision3)\n",
    "plt.xlim(0,1)\n",
    "plt.ylim(0,1)\n",
    "plt.title('Combined')\n",
    "plt.show()\n"
   ]
  },
  {
   "cell_type": "code",
   "execution_count": 331,
   "metadata": {},
   "outputs": [
    {
     "data": {
      "image/png": "[encoded data removed]",
      "text/plain": [
       "<matplotlib.figure.Figure at 0x16de641e550>"
      ]
     },
     "metadata": {},
     "output_type": "display_data"
    }
   ],
   "source": [
    "plt.plot(recall1, precision1,label = 'origin')\n",
    "plt.plot(recall2, precision2,label = 'att')\n",
    "# plt.plot(recall3, precision3,label = 'combine')\n",
    "plt.legend()\n",
    "# plt.xlim(0,1)\n",
    "# plt.ylim(0,1)\n",
    "plt.show()\n"
   ]
  },
  {
   "cell_type": "code",
   "execution_count": null,
   "metadata": {
    "collapsed": true
   },
   "outputs": [],
   "source": []
  },
  {
   "cell_type": "code",
   "execution_count": null,
   "metadata": {
    "collapsed": true
   },
   "outputs": [],
   "source": []
  }
 ],
 "metadata": {
  "kernelspec": {
   "display_name": "Python 3",
   "language": "python",
   "name": "python3"
  },
  "language_info": {
   "codemirror_mode": {
    "name": "ipython",
    "version": 3
   },
   "file_extension": ".py",
   "mimetype": "text/x-python",
   "name": "python",
   "nbconvert_exporter": "python",
   "pygments_lexer": "ipython3",
   "version": "3.6.2"
  }
 },
 "nbformat": 4,
 "nbformat_minor": 2
}
